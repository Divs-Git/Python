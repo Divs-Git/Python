{
  "nbformat": 4,
  "nbformat_minor": 0,
  "metadata": {
    "colab": {
      "provenance": [],
      "authorship_tag": "ABX9TyOKY3Zcdqe4M8V+2fBoaMFI",
      "include_colab_link": true
    },
    "kernelspec": {
      "name": "python3",
      "display_name": "Python 3"
    },
    "language_info": {
      "name": "python"
    }
  },
  "cells": [
    {
      "cell_type": "markdown",
      "metadata": {
        "id": "view-in-github",
        "colab_type": "text"
      },
      "source": [
        "<a href=\"https://colab.research.google.com/github/Divs-Git/Python/blob/main/4_Strings_Problems.ipynb\" target=\"_parent\"><img src=\"https://colab.research.google.com/assets/colab-badge.svg\" alt=\"Open In Colab\"/></a>"
      ]
    },
    {
      "cell_type": "code",
      "execution_count": 2,
      "metadata": {
        "colab": {
          "base_uri": "https://localhost:8080/"
        },
        "id": "585nD7Ju-Iy_",
        "outputId": "2fdb9e3a-f065-4590-9117-42c21bd95cd3"
      },
      "outputs": [
        {
          "output_type": "stream",
          "name": "stdout",
          "text": [
            "11\n",
            "11\n"
          ]
        }
      ],
      "source": [
        "# Find the length of a given string without using the len() function\n",
        "\n",
        "s = \"Hello World\"\n",
        "\n",
        "cnt = 0\n",
        "for i in s:\n",
        "    cnt += 1\n",
        "\n",
        "print(cnt)\n",
        "\n",
        "print(len(s))"
      ]
    },
    {
      "cell_type": "code",
      "source": [
        "# Extract username from a given email\n",
        "# Eg if the email is thedivsyakku@gmail.com\n",
        "# then the username should be thedivsyakku\n",
        "\n",
        "s = \"thedivsyakku@gmail.com\"\n",
        "\n",
        "# L = s.split(\"@\")\n",
        "# print(L[0])\n",
        "\n",
        "pos = s.index(\"@\")\n",
        "print(s[0:pos])"
      ],
      "metadata": {
        "colab": {
          "base_uri": "https://localhost:8080/"
        },
        "id": "K3VtFJzL-yg2",
        "outputId": "a060810b-9473-4ec4-fc09-2ca624897559"
      },
      "execution_count": 4,
      "outputs": [
        {
          "output_type": "stream",
          "name": "stdout",
          "text": [
            "thedivsyakku\n"
          ]
        }
      ]
    },
    {
      "cell_type": "code",
      "source": [
        "# count the frequency of a particular character in a provided string\n",
        "# Eg 'hello how are you' is the string, the frequency of h in this string is 2\n",
        "\n",
        "s = \"Hi my name is Divyansh\"\n",
        "\n",
        "# let check for i\n",
        "\n",
        "cnt = 0\n",
        "for letter in s:\n",
        "    if letter == \"i\":\n",
        "        cnt += 1\n",
        "\n",
        "print(cnt)"
      ],
      "metadata": {
        "colab": {
          "base_uri": "https://localhost:8080/"
        },
        "id": "dnj06eso_gks",
        "outputId": "111f19d4-07bc-44b0-e5cb-3c4c254f846e"
      },
      "execution_count": 5,
      "outputs": [
        {
          "output_type": "stream",
          "name": "stdout",
          "text": [
            "3\n"
          ]
        }
      ]
    },
    {
      "cell_type": "code",
      "source": [
        "# Write a program which can remove a particular character from a string\n",
        "\n",
        "s = \"Hi my name is Divyansh\"\n",
        "\n",
        "L = s.split(\"i\")\n",
        "\n",
        "s = \"\".join(L)\n",
        "print(s)"
      ],
      "metadata": {
        "colab": {
          "base_uri": "https://localhost:8080/"
        },
        "id": "Qrr-_p54Atgx",
        "outputId": "7178a8ed-17fc-4348-c819-6c6f4fa03f2c"
      },
      "execution_count": 8,
      "outputs": [
        {
          "output_type": "stream",
          "name": "stdout",
          "text": [
            "H my name s Dvyansh\n"
          ]
        }
      ]
    },
    {
      "cell_type": "code",
      "source": [
        "# write a program that can check whether a given string is palindrome or not\n",
        "\n",
        "s = \"MhhiM\"\n",
        "\n",
        "# s1 = s[::-1]\n",
        "# print(s==s1)\n",
        "\n",
        "flag = True\n",
        "for i in range(0,len(s)//2):\n",
        "    if s[i] != s[len(s)-i-1]:\n",
        "        flag = False\n",
        "        print(\"Not a palindrome\")\n",
        "        break\n",
        "    \n",
        "if flag == True:\n",
        "    print(\"Palindrome\")"
      ],
      "metadata": {
        "colab": {
          "base_uri": "https://localhost:8080/"
        },
        "id": "WsX-yBDIAvG-",
        "outputId": "8888f504-f34e-4f64-d353-7644ea63cc7f"
      },
      "execution_count": 12,
      "outputs": [
        {
          "output_type": "stream",
          "name": "stdout",
          "text": [
            "Not a palindrome\n"
          ]
        }
      ]
    },
    {
      "cell_type": "code",
      "source": [
        "# write a program to count the number of words in a string without split()\n",
        "s = \"Hi how are you\"\n",
        "L = []\n",
        "temp = \"\"\n",
        "for letter in s:\n",
        "    if letter != \" \":\n",
        "        temp += letter\n",
        "    else:\n",
        "        L.append(temp)\n",
        "        temp = \"\"\n",
        "L.append(temp)\n",
        "print(L)\n",
        "print(len(L)) "
      ],
      "metadata": {
        "colab": {
          "base_uri": "https://localhost:8080/"
        },
        "id": "iVDKuUqHBlzs",
        "outputId": "2c152cf1-5626-463a-b67b-337aec3b8a03"
      },
      "execution_count": 18,
      "outputs": [
        {
          "output_type": "stream",
          "name": "stdout",
          "text": [
            "['Hi', 'how', 'are', 'you']\n",
            "4\n"
          ]
        }
      ]
    },
    {
      "cell_type": "code",
      "source": [
        "# write a python program to convert a string to title case without using the title()\n",
        "\n",
        "s = \"hi how are you\"\n",
        "L = []\n",
        "\n",
        "for i in s.split():\n",
        "    L.append(i[0].upper() + i[1:].lower())\n",
        "\n",
        "print(L)\n",
        "s = \" \".join(L)\n",
        "print(s)"
      ],
      "metadata": {
        "colab": {
          "base_uri": "https://localhost:8080/"
        },
        "id": "XXXVZ63xDJKh",
        "outputId": "3b9b7d26-4cd1-4f86-8afc-715826f0ca2d"
      },
      "execution_count": 21,
      "outputs": [
        {
          "output_type": "stream",
          "name": "stdout",
          "text": [
            "['Hi', 'How', 'Are', 'You']\n",
            "Hi How Are You\n"
          ]
        }
      ]
    },
    {
      "cell_type": "code",
      "source": [
        "# write a program that can convert an integer to string\n",
        "\n",
        "number = int(input(\"Enter the number: \"))\n",
        "\n",
        "digit = \"0123456789\"\n",
        "result = \"\"\n",
        "while number != 0:\n",
        "    result = digit[number % 10] + result \n",
        "    number //= 10\n",
        "\n",
        "print(result)\n",
        "print(type(result))"
      ],
      "metadata": {
        "colab": {
          "base_uri": "https://localhost:8080/"
        },
        "id": "OR79S32oECcX",
        "outputId": "e7f47533-c6ee-4b31-88fd-63d31bada682"
      },
      "execution_count": 23,
      "outputs": [
        {
          "output_type": "stream",
          "name": "stdout",
          "text": [
            "Enter the number: 1234\n",
            "1234\n",
            "<class 'str'>\n"
          ]
        }
      ]
    }
  ]
}