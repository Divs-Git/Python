{
  "nbformat": 4,
  "nbformat_minor": 0,
  "metadata": {
    "colab": {
      "provenance": [],
      "authorship_tag": "ABX9TyOsAx5BxU2UByoPncisFhwn",
      "include_colab_link": true
    },
    "kernelspec": {
      "name": "python3",
      "display_name": "Python 3"
    },
    "language_info": {
      "name": "python"
    }
  },
  "cells": [
    {
      "cell_type": "markdown",
      "metadata": {
        "id": "view-in-github",
        "colab_type": "text"
      },
      "source": [
        "<a href=\"https://colab.research.google.com/github/Divs-Git/Python/blob/main/1.%20Python_Fundamentals.ipynb\" target=\"_parent\"><img src=\"https://colab.research.google.com/assets/colab-badge.svg\" alt=\"Open In Colab\"/></a>"
      ]
    },
    {
      "cell_type": "markdown",
      "source": [
        "#Why Python"
      ],
      "metadata": {
        "id": "SfjL4x0r8tog"
      }
    },
    {
      "cell_type": "markdown",
      "source": [
        "1. Design Philosophy\n",
        "2. Batteries Included\n",
        "3. General Purpose\n",
        "4. Libraries/Community\n"
      ],
      "metadata": {
        "id": "5l99WSZ-8w27"
      }
    },
    {
      "cell_type": "markdown",
      "source": [
        "#1. Python Output"
      ],
      "metadata": {
        "id": "WPr78nt292Jr"
      }
    },
    {
      "cell_type": "code",
      "source": [
        "# Python is a case-sensitive language\n",
        "print(\"Hello World\")"
      ],
      "metadata": {
        "colab": {
          "base_uri": "https://localhost:8080/"
        },
        "id": "A1K97Qnw9y1t",
        "outputId": "a79c1b25-63ca-42a0-b586-8d8b25d5aea3"
      },
      "execution_count": 3,
      "outputs": [
        {
          "output_type": "stream",
          "name": "stdout",
          "text": [
            "Hello World\n"
          ]
        }
      ]
    },
    {
      "cell_type": "code",
      "source": [
        "print(\"Salman Khan\")"
      ],
      "metadata": {
        "colab": {
          "base_uri": "https://localhost:8080/"
        },
        "id": "REy-mYby-tKL",
        "outputId": "7fcdd2c3-e759-45de-f820-2102e78c5776"
      },
      "execution_count": 4,
      "outputs": [
        {
          "output_type": "stream",
          "name": "stdout",
          "text": [
            "Salman Khan\n"
          ]
        }
      ]
    },
    {
      "cell_type": "code",
      "source": [
        "print(Salman khan) # string is \"\""
      ],
      "metadata": {
        "colab": {
          "base_uri": "https://localhost:8080/",
          "height": 134
        },
        "id": "6S3okWda-yVz",
        "outputId": "c6367d37-c0e4-4fac-f0b0-ef4e4aa8116c"
      },
      "execution_count": 5,
      "outputs": [
        {
          "output_type": "error",
          "ename": "SyntaxError",
          "evalue": "ignored",
          "traceback": [
            "\u001b[0;36m  File \u001b[0;32m\"<ipython-input-5-4b5ba2540773>\"\u001b[0;36m, line \u001b[0;32m1\u001b[0m\n\u001b[0;31m    print(Salman khan)\u001b[0m\n\u001b[0m                 ^\u001b[0m\n\u001b[0;31mSyntaxError\u001b[0m\u001b[0;31m:\u001b[0m invalid syntax\n"
          ]
        }
      ]
    },
    {
      "cell_type": "code",
      "source": [
        "print(6)"
      ],
      "metadata": {
        "colab": {
          "base_uri": "https://localhost:8080/"
        },
        "id": "UgfF5o89-6Q3",
        "outputId": "f8a90544-619a-4506-e44a-d3d11a6cd33f"
      },
      "execution_count": 6,
      "outputs": [
        {
          "output_type": "stream",
          "name": "stdout",
          "text": [
            "6\n"
          ]
        }
      ]
    },
    {
      "cell_type": "code",
      "source": [
        "print(\"hello\",1,5.6,True) # multiple prints with space"
      ],
      "metadata": {
        "colab": {
          "base_uri": "https://localhost:8080/"
        },
        "id": "2Bv3aa8K-_fA",
        "outputId": "a3e6121d-d52d-4a5d-b2b8-f66f6c8d3198"
      },
      "execution_count": 8,
      "outputs": [
        {
          "output_type": "stream",
          "name": "stdout",
          "text": [
            "hello 1 5.6 True\n"
          ]
        }
      ]
    },
    {
      "cell_type": "code",
      "source": [
        "print(\"hello\",1,5.6,True,sep = \"/\") # sep attribute"
      ],
      "metadata": {
        "colab": {
          "base_uri": "https://localhost:8080/"
        },
        "id": "XiypWNQE_JLE",
        "outputId": "b992bd02-7c5a-4f62-d605-80056ce5a8c2"
      },
      "execution_count": 10,
      "outputs": [
        {
          "output_type": "stream",
          "name": "stdout",
          "text": [
            "hello/1/5.6/True\n"
          ]
        }
      ]
    },
    {
      "cell_type": "code",
      "source": [
        "print(\"Hello\")\n",
        "print(\"World\")"
      ],
      "metadata": {
        "colab": {
          "base_uri": "https://localhost:8080/"
        },
        "id": "FJcCxskn_adu",
        "outputId": "8bb88fd9-b778-45eb-bcae-cba128dfaf20"
      },
      "execution_count": 11,
      "outputs": [
        {
          "output_type": "stream",
          "name": "stdout",
          "text": [
            "Hello\n",
            "World\n"
          ]
        }
      ]
    },
    {
      "cell_type": "code",
      "source": [
        "print(\"Hello\",end =\"-\") # end attribute used as ending statement\n",
        "print(\"World\")"
      ],
      "metadata": {
        "colab": {
          "base_uri": "https://localhost:8080/"
        },
        "id": "HYOlOSnH_ijO",
        "outputId": "f5f50632-1d0e-49c0-d241-85705386626d"
      },
      "execution_count": 12,
      "outputs": [
        {
          "output_type": "stream",
          "name": "stdout",
          "text": [
            "Hello-World\n"
          ]
        }
      ]
    },
    {
      "cell_type": "markdown",
      "source": [
        "#2. Data Types"
      ],
      "metadata": {
        "id": "unO23rsJ_5Ls"
      }
    },
    {
      "cell_type": "code",
      "source": [
        "# Integer\n",
        "print(8)\n",
        "print(1e308) # 1*10^308"
      ],
      "metadata": {
        "colab": {
          "base_uri": "https://localhost:8080/"
        },
        "id": "KgbQ4Qdl_796",
        "outputId": "c7746d70-ea8d-4723-b809-9d308ca30e2e"
      },
      "execution_count": 16,
      "outputs": [
        {
          "output_type": "stream",
          "name": "stdout",
          "text": [
            "8\n",
            "inf\n"
          ]
        }
      ]
    },
    {
      "cell_type": "code",
      "source": [
        "# float\n",
        "print(8.5)\n",
        "print(1.7e308)"
      ],
      "metadata": {
        "colab": {
          "base_uri": "https://localhost:8080/"
        },
        "id": "WuQyV9ZmAO4m",
        "outputId": "4c65e610-dbd9-4fee-9182-30841695ccb3"
      },
      "execution_count": 17,
      "outputs": [
        {
          "output_type": "stream",
          "name": "stdout",
          "text": [
            "8.5\n",
            "1.7e+308\n"
          ]
        }
      ]
    },
    {
      "cell_type": "code",
      "source": [
        "# Boolean\n",
        "print(True)\n",
        "print(False)"
      ],
      "metadata": {
        "colab": {
          "base_uri": "https://localhost:8080/"
        },
        "id": "1xO04_FSAdOS",
        "outputId": "4fac2a06-3da8-4cc9-9474-60e044ac67a0"
      },
      "execution_count": 18,
      "outputs": [
        {
          "output_type": "stream",
          "name": "stdout",
          "text": [
            "True\n",
            "False\n"
          ]
        }
      ]
    },
    {
      "cell_type": "code",
      "source": [
        "# Text/String\n",
        "print(\"Hello World\")"
      ],
      "metadata": {
        "colab": {
          "base_uri": "https://localhost:8080/"
        },
        "id": "ms8_hOSmAh_3",
        "outputId": "0220f470-6cd9-42f0-e81b-64d03a829738"
      },
      "execution_count": 19,
      "outputs": [
        {
          "output_type": "stream",
          "name": "stdout",
          "text": [
            "Hello World\n"
          ]
        }
      ]
    },
    {
      "cell_type": "code",
      "source": [
        "# complex\n",
        "print(1+6j)"
      ],
      "metadata": {
        "colab": {
          "base_uri": "https://localhost:8080/"
        },
        "id": "hnk6sHzQAmUE",
        "outputId": "6d2859a3-5dc3-4167-843d-6746f49611b8"
      },
      "execution_count": 20,
      "outputs": [
        {
          "output_type": "stream",
          "name": "stdout",
          "text": [
            "(1+6j)\n"
          ]
        }
      ]
    },
    {
      "cell_type": "code",
      "source": [
        "# List\n",
        "print([1,2,3,4,5,6])"
      ],
      "metadata": {
        "colab": {
          "base_uri": "https://localhost:8080/"
        },
        "id": "WNoOYx53AsYl",
        "outputId": "c7572505-b9da-45e0-897e-ba927b0f56ba"
      },
      "execution_count": 22,
      "outputs": [
        {
          "output_type": "stream",
          "name": "stdout",
          "text": [
            "[1, 2, 3, 4, 5, 6]\n"
          ]
        }
      ]
    },
    {
      "cell_type": "code",
      "source": [
        "# Tuple\n",
        "print((1,2,3,4,5,6))"
      ],
      "metadata": {
        "colab": {
          "base_uri": "https://localhost:8080/"
        },
        "id": "nMV9f9NoAxX1",
        "outputId": "102adf8a-db45-44d6-8e6b-961e44c60bec"
      },
      "execution_count": 23,
      "outputs": [
        {
          "output_type": "stream",
          "name": "stdout",
          "text": [
            "(1, 2, 3, 4, 5, 6)\n"
          ]
        }
      ]
    },
    {
      "cell_type": "code",
      "source": [
        "# Sets\n",
        "print({1,2,3,4,5,6})"
      ],
      "metadata": {
        "colab": {
          "base_uri": "https://localhost:8080/"
        },
        "id": "TdLHH422A4tO",
        "outputId": "1f3febcd-6dd0-4a54-ee51-fa4073032c2d"
      },
      "execution_count": 24,
      "outputs": [
        {
          "output_type": "stream",
          "name": "stdout",
          "text": [
            "{1, 2, 3, 4, 5, 6}\n"
          ]
        }
      ]
    },
    {
      "cell_type": "code",
      "source": [
        "# Dictionary\n",
        "print({\"Name\":\"Divyansh\",\"Gender\":\"Male\",\"Roll No.\":19425})"
      ],
      "metadata": {
        "colab": {
          "base_uri": "https://localhost:8080/"
        },
        "id": "2-wyVqAQA9Pb",
        "outputId": "4c416a7b-0e95-4e48-b475-5378fb1fadbd"
      },
      "execution_count": 25,
      "outputs": [
        {
          "output_type": "stream",
          "name": "stdout",
          "text": [
            "{'Name': 'Divyansh', 'Gender': 'Male', 'Roll No.': 19425}\n"
          ]
        }
      ]
    },
    {
      "cell_type": "code",
      "source": [
        "# type function\n",
        "type(6.7)"
      ],
      "metadata": {
        "colab": {
          "base_uri": "https://localhost:8080/"
        },
        "id": "L6rmFvrRccRl",
        "outputId": "94cffe7b-02f5-42ae-a113-f906cf3a7483"
      },
      "execution_count": 26,
      "outputs": [
        {
          "output_type": "execute_result",
          "data": {
            "text/plain": [
              "float"
            ]
          },
          "metadata": {},
          "execution_count": 26
        }
      ]
    },
    {
      "cell_type": "markdown",
      "source": [
        "#3. Variables"
      ],
      "metadata": {
        "id": "Bp5xXDaXchK8"
      }
    },
    {
      "cell_type": "code",
      "source": [
        "# Dynamic Typing --> need not to define datatype of variable\n",
        "a = 5\n",
        "\n",
        "# Static typing\n",
        "int a = 5"
      ],
      "metadata": {
        "id": "KHFoG327cpF9"
      },
      "execution_count": null,
      "outputs": []
    },
    {
      "cell_type": "code",
      "source": [
        "# Dynamic Binding---> can change datatype of variable \n",
        "a = 5\n",
        "print(a)\n",
        "a =  \"Divs\"\n",
        "print(a)"
      ],
      "metadata": {
        "colab": {
          "base_uri": "https://localhost:8080/"
        },
        "id": "WvQQ0j0cdhP9",
        "outputId": "6dc0ba73-8b9d-478f-a944-1a7ae9be9077"
      },
      "execution_count": 27,
      "outputs": [
        {
          "output_type": "stream",
          "name": "stdout",
          "text": [
            "5\n",
            "Divs\n"
          ]
        }
      ]
    },
    {
      "cell_type": "code",
      "source": [
        "# Stylish Declaration\n",
        "a,b,c = 1,2,3\n",
        "print(a,c,b)\n",
        "\n",
        "a=b=c=5\n",
        "print(a,b,c)"
      ],
      "metadata": {
        "colab": {
          "base_uri": "https://localhost:8080/"
        },
        "id": "cmCOf8OmeB_b",
        "outputId": "32d9b6b4-bca8-4661-83c9-1a697bff0d59"
      },
      "execution_count": 29,
      "outputs": [
        {
          "output_type": "stream",
          "name": "stdout",
          "text": [
            "1 3 2\n",
            "5 5 5\n"
          ]
        }
      ]
    },
    {
      "cell_type": "markdown",
      "source": [
        "#4. Keywords & Identifiers"
      ],
      "metadata": {
        "id": "AEPTMqJEetH7"
      }
    },
    {
      "cell_type": "code",
      "source": [
        "# Keywords ---> 32 keyword; Don't use as varible name"
      ],
      "metadata": {
        "id": "dTEm7MuaexnL"
      },
      "execution_count": null,
      "outputs": []
    },
    {
      "cell_type": "code",
      "source": [
        "# Identifier---> Name of the token"
      ],
      "metadata": {
        "id": "HBS7plhth8YY"
      },
      "execution_count": null,
      "outputs": []
    },
    {
      "cell_type": "markdown",
      "source": [
        "#5. User Input"
      ],
      "metadata": {
        "id": "bQKypSmAiGzw"
      }
    },
    {
      "cell_type": "code",
      "source": [
        "# Static software---> no input \n",
        "# Dynamic Software---> must have user input"
      ],
      "metadata": {
        "id": "ccbrTevkiJev"
      },
      "execution_count": 29,
      "outputs": []
    },
    {
      "cell_type": "code",
      "source": [
        "input(\"Enter Your name: \")"
      ],
      "metadata": {
        "colab": {
          "base_uri": "https://localhost:8080/",
          "height": 55
        },
        "id": "K6RdcN7qiWL0",
        "outputId": "08878a07-3960-4dc5-bddc-30d2516ba0de"
      },
      "execution_count": 33,
      "outputs": [
        {
          "name": "stdout",
          "output_type": "stream",
          "text": [
            "Enter Your name: Divyansh\n"
          ]
        },
        {
          "output_type": "execute_result",
          "data": {
            "text/plain": [
              "'Divyansh'"
            ],
            "application/vnd.google.colaboratory.intrinsic+json": {
              "type": "string"
            }
          },
          "metadata": {},
          "execution_count": 33
        }
      ]
    },
    {
      "cell_type": "markdown",
      "source": [
        "**Type conversion vs Type casting**\n",
        "\n",
        "*   new object is made\n",
        "*   Change in original object\n",
        "\n",
        "\n"
      ],
      "metadata": {
        "id": "HnXbH6L-jEPC"
      }
    }
  ]
}