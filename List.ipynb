{
  "nbformat": 4,
  "nbformat_minor": 0,
  "metadata": {
    "colab": {
      "provenance": [],
      "authorship_tag": "ABX9TyPKrit2eBSAH0t9Oke/9in4",
      "include_colab_link": true
    },
    "kernelspec": {
      "name": "python3",
      "display_name": "Python 3"
    },
    "language_info": {
      "name": "python"
    }
  },
  "cells": [
    {
      "cell_type": "markdown",
      "metadata": {
        "id": "view-in-github",
        "colab_type": "text"
      },
      "source": [
        "<a href=\"https://colab.research.google.com/github/Divs-Git/Python/blob/main/List.ipynb\" target=\"_parent\"><img src=\"https://colab.research.google.com/assets/colab-badge.svg\" alt=\"Open In Colab\"/></a>"
      ]
    },
    {
      "cell_type": "markdown",
      "source": [
        "#What are Lists"
      ],
      "metadata": {
        "id": "AH6uAYxLjUoQ"
      }
    },
    {
      "cell_type": "markdown",
      "source": [
        "List is a datatype whre you can store multiple items under 1 name. More technically, list act like dynamic arrays which means you can add more items on the fly."
      ],
      "metadata": {
        "id": "srkmXRl0jhtr"
      }
    },
    {
      "cell_type": "code",
      "source": [
        "L = [20,'Jessa',35.75,[30,60,90]]\n",
        "print(L)"
      ],
      "metadata": {
        "colab": {
          "base_uri": "https://localhost:8080/"
        },
        "id": "yjnYU8A5kOno",
        "outputId": "3ec24d32-4b8f-48ae-ae67-864d1441c8ce"
      },
      "execution_count": 2,
      "outputs": [
        {
          "output_type": "stream",
          "name": "stdout",
          "text": [
            "[20, 'Jessa', 35.75, [30, 60, 90]]\n"
          ]
        }
      ]
    },
    {
      "cell_type": "markdown",
      "source": [
        "#Array Vs Lists"
      ],
      "metadata": {
        "id": "mAIGnCcaj1En"
      }
    },
    {
      "cell_type": "markdown",
      "source": [
        "* Fixed Vs Dynamic Size\n",
        "* Convinience --> Heterogeneous\n",
        "* Speed of Execution (List)---> slow\n",
        "* Memory more ---> List\n"
      ],
      "metadata": {
        "id": "aZeC-vHaj4Mk"
      }
    },
    {
      "cell_type": "markdown",
      "source": [
        "#How lists are stored in memory"
      ],
      "metadata": {
        "id": "ufPe8x0jktU_"
      }
    },
    {
      "cell_type": "code",
      "execution_count": 7,
      "metadata": {
        "colab": {
          "base_uri": "https://localhost:8080/"
        },
        "id": "GwRYQHa-ieup",
        "outputId": "18bbbf3e-74ca-4915-ece6-c25a80b3de07"
      },
      "outputs": [
        {
          "output_type": "stream",
          "name": "stdout",
          "text": [
            "139756415386368\n",
            "9793088\n",
            "9793120\n",
            "9793152\n",
            "\n",
            "9793088\n",
            "9793120\n",
            "9793152\n"
          ]
        }
      ],
      "source": [
        "# Referential array\n",
        "L = [1,2,3]\n",
        "print(id(L))\n",
        "print(id(L[0]))\n",
        "print(id(L[1]))\n",
        "print(id(L[2]))\n",
        "\n",
        "print()\n",
        "\n",
        "print(id(1))\n",
        "print(id(2))\n",
        "print(id(3))"
      ]
    },
    {
      "cell_type": "markdown",
      "source": [
        "#Characteristics of a List"
      ],
      "metadata": {
        "id": "_GsPw1SlnTij"
      }
    },
    {
      "cell_type": "markdown",
      "source": [
        "* Ordered\n",
        "* Changeble/Mutable\n",
        "* Heterogenous\n",
        "* Can be duplicates\n",
        "* are dynamic\n",
        "* can be nested\n",
        "* items can be accessed\n",
        "* can contain any kind of objects in python"
      ],
      "metadata": {
        "id": "rfTHyY4HnZ7M"
      }
    },
    {
      "cell_type": "code",
      "source": [
        "L = [1,2,3]\n",
        "L1 = [3,2,1]\n",
        "\n",
        "print(L == L1)\n",
        "\n",
        "L2 = [1,print,type,input]\n",
        "print(L2)"
      ],
      "metadata": {
        "colab": {
          "base_uri": "https://localhost:8080/"
        },
        "id": "syDjx8iznxsK",
        "outputId": "0a661a0a-5e4e-4f7a-da45-f9866629dcdd"
      },
      "execution_count": 112,
      "outputs": [
        {
          "output_type": "stream",
          "name": "stdout",
          "text": [
            "False\n",
            "[1, <built-in function print>, <class 'type'>, <bound method Kernel.raw_input of <google.colab._kernel.Kernel object at 0x7f1bddc56be0>>]\n"
          ]
        }
      ]
    },
    {
      "cell_type": "markdown",
      "source": [
        "# Creating a List"
      ],
      "metadata": {
        "id": "pM2gWnOqof6g"
      }
    },
    {
      "cell_type": "code",
      "source": [
        "# Empty List\n",
        "print([])\n",
        "\n",
        "# 1D -> Homogeneous\n",
        "print([1,2,3,4,5,6])\n",
        "\n",
        "# 2D\n",
        "print([1,2,[1,2,3]])\n",
        "\n",
        "# 3D\n",
        "print([[[1,2],[3,4]],[[5,6],[7,8]]])\n",
        "\n",
        "# Heterogenous\n",
        "print([1,True,5+6j,\"hello\",3.5,34e45])\n",
        "\n",
        "# Using Type Conversion\n",
        "print(list(\"Hello\"))\n",
        "# print(list(1334)) ---> 'int' object is not iterable"
      ],
      "metadata": {
        "colab": {
          "base_uri": "https://localhost:8080/"
        },
        "id": "muwLnSgPooPz",
        "outputId": "6e23e448-e42a-46e5-91d8-cfa81feb8a71"
      },
      "execution_count": 13,
      "outputs": [
        {
          "output_type": "stream",
          "name": "stdout",
          "text": [
            "[]\n",
            "[1, 2, 3, 4, 5, 6]\n",
            "[1, 2, [1, 2, 3]]\n",
            "[[[1, 2], [3, 4]], [[5, 6], [7, 8]]]\n",
            "[1, True, (5+6j), 'hello', 3.5, 3.4e+46]\n",
            "['H', 'e', 'l', 'l', 'o']\n"
          ]
        }
      ]
    },
    {
      "cell_type": "markdown",
      "source": [
        "#Accessing Items from a List"
      ],
      "metadata": {
        "id": "EzheFFscqoca"
      }
    },
    {
      "cell_type": "code",
      "source": [
        "# Indexing\n",
        "L = [1,2,3,4,5,6]\n",
        "# Positive Indexing\n",
        "print(L[0])\n",
        "# Negative Indexing\n",
        "print(L[-1])\n",
        "\n",
        "# 2D List\n",
        "L = [1,2,3,[4,5,6]] # let say 4\n",
        "print(L[3][0])\n",
        "print(L[-1][-3])\n",
        "\n",
        "# 3D List\n",
        "L = [[[1,2],[3,4]],[[5,6],[7,8]]] # let say 6\n",
        "print(L[1][0][1])\n",
        "print(L[-1][-2][-1])"
      ],
      "metadata": {
        "colab": {
          "base_uri": "https://localhost:8080/"
        },
        "id": "7DPftFl6qFmu",
        "outputId": "848a38d9-0b66-46f9-bae8-02512d1066d5"
      },
      "execution_count": 22,
      "outputs": [
        {
          "output_type": "stream",
          "name": "stdout",
          "text": [
            "1\n",
            "6\n",
            "4\n",
            "4\n",
            "6\n",
            "6\n"
          ]
        }
      ]
    },
    {
      "cell_type": "code",
      "source": [
        "# Slicing ------> Multiple extraction\n",
        "L = [1,2,3,4,5,6]\n",
        "print(L[1:5:3])\n",
        "print(L[-2:-6:-3])"
      ],
      "metadata": {
        "colab": {
          "base_uri": "https://localhost:8080/"
        },
        "id": "nJC_PVgOrBRP",
        "outputId": "d7bd89a3-f592-4fcb-c360-f114d613fe80"
      },
      "execution_count": 25,
      "outputs": [
        {
          "output_type": "stream",
          "name": "stdout",
          "text": [
            "[2, 5]\n",
            "[5, 2]\n"
          ]
        }
      ]
    },
    {
      "cell_type": "markdown",
      "source": [
        "# Adding items to a list"
      ],
      "metadata": {
        "id": "cr-cGd3l5leH"
      }
    },
    {
      "cell_type": "code",
      "source": [
        "# append() ---> always trys to add single item\n",
        "L = [1,2,3,4,5,6]\n",
        "L.append(8)\n",
        "print(L)"
      ],
      "metadata": {
        "colab": {
          "base_uri": "https://localhost:8080/"
        },
        "id": "E7An9nG_5oKZ",
        "outputId": "9685fbb9-4568-4740-8c97-3ef710230399"
      },
      "execution_count": 27,
      "outputs": [
        {
          "output_type": "stream",
          "name": "stdout",
          "text": [
            "[1, 2, 3, 4, 5, 6, 8]\n"
          ]
        }
      ]
    },
    {
      "cell_type": "code",
      "source": [
        "# extend()  ---> always trys to add multiple item\n",
        "L = [1,2,3,4,5,6]\n",
        "L.extend([6,7,8,9])\n",
        "print(L)"
      ],
      "metadata": {
        "colab": {
          "base_uri": "https://localhost:8080/"
        },
        "id": "I2loBAFD5viI",
        "outputId": "08198cca-81cb-4919-bc9a-333d6dbaebbd"
      },
      "execution_count": 28,
      "outputs": [
        {
          "output_type": "stream",
          "name": "stdout",
          "text": [
            "[1, 2, 3, 4, 5, 6, 6, 7, 8, 9]\n"
          ]
        }
      ]
    },
    {
      "cell_type": "code",
      "source": [
        "L = [1,2,3,4,5,6]\n",
        "L.append([6,7,8])\n",
        "print(L)"
      ],
      "metadata": {
        "colab": {
          "base_uri": "https://localhost:8080/"
        },
        "id": "R8DMIhjR54XV",
        "outputId": "4152ab53-0b6a-4d36-83a8-c2d2a5e05eb4"
      },
      "execution_count": 29,
      "outputs": [
        {
          "output_type": "stream",
          "name": "stdout",
          "text": [
            "[1, 2, 3, 4, 5, 6, [6, 7, 8]]\n"
          ]
        }
      ]
    },
    {
      "cell_type": "code",
      "source": [
        "L = [1,2,3,4,5,6]\n",
        "L.extend(\"Strings\")\n",
        "print(L)\n"
      ],
      "metadata": {
        "colab": {
          "base_uri": "https://localhost:8080/"
        },
        "id": "hoL1Hmq66AA_",
        "outputId": "10cdfaa1-f6a4-463b-dd21-893d52346eba"
      },
      "execution_count": 30,
      "outputs": [
        {
          "output_type": "stream",
          "name": "stdout",
          "text": [
            "[1, 2, 3, 4, 5, 6, 'S', 't', 'r', 'i', 'n', 'g', 's']\n"
          ]
        }
      ]
    },
    {
      "cell_type": "code",
      "source": [
        "# insert()  ---> add at an index\n",
        "L = [1,2,3,4,5,6]\n",
        "L.insert(1,100)\n",
        "print(L)"
      ],
      "metadata": {
        "colab": {
          "base_uri": "https://localhost:8080/"
        },
        "id": "FCp2oyJl6S8B",
        "outputId": "20553689-83fd-47bb-c8fb-7788c9a0c457"
      },
      "execution_count": 31,
      "outputs": [
        {
          "output_type": "stream",
          "name": "stdout",
          "text": [
            "[1, 100, 2, 3, 4, 5, 6]\n"
          ]
        }
      ]
    },
    {
      "cell_type": "markdown",
      "source": [
        "# Editing items in a List"
      ],
      "metadata": {
        "id": "UyIpBkw_6ubN"
      }
    },
    {
      "cell_type": "code",
      "source": [
        "L = [1,2,3,4,5,6]\n",
        "# indexed based\n",
        "L[-2] = 500\n",
        "print(L)"
      ],
      "metadata": {
        "colab": {
          "base_uri": "https://localhost:8080/"
        },
        "id": "Byj1Mev_6cpb",
        "outputId": "3f740cb0-e342-4bad-a4d5-d321087b20ff"
      },
      "execution_count": 33,
      "outputs": [
        {
          "output_type": "stream",
          "name": "stdout",
          "text": [
            "[1, 2, 3, 4, 500, 6]\n"
          ]
        }
      ]
    },
    {
      "cell_type": "code",
      "source": [
        "L = [1,2,3,4,5,6]\n",
        "# slice based\n",
        "L[1:4] = 200,400,600\n",
        "print(L)"
      ],
      "metadata": {
        "colab": {
          "base_uri": "https://localhost:8080/"
        },
        "id": "kiSX9RuH65jO",
        "outputId": "19a3bd8d-48ba-4110-f471-4c57012d69d9"
      },
      "execution_count": 38,
      "outputs": [
        {
          "output_type": "stream",
          "name": "stdout",
          "text": [
            "[1, 200, 400, 600, 5, 6]\n"
          ]
        }
      ]
    },
    {
      "cell_type": "markdown",
      "source": [
        "# Deleting items from a List"
      ],
      "metadata": {
        "id": "PbuaIJ-47gJa"
      }
    },
    {
      "cell_type": "code",
      "source": [
        "# del\n",
        "L = [1,2,3,4,5,6]\n",
        "print(L)\n",
        "del L\n",
        "print(L)"
      ],
      "metadata": {
        "colab": {
          "base_uri": "https://localhost:8080/",
          "height": 224
        },
        "id": "gePA3THm7e6L",
        "outputId": "bf464773-65a7-46fa-b83c-0f5a041339ec"
      },
      "execution_count": 41,
      "outputs": [
        {
          "output_type": "stream",
          "name": "stdout",
          "text": [
            "[1, 2, 3, 4, 5, 6]\n"
          ]
        },
        {
          "output_type": "error",
          "ename": "NameError",
          "evalue": "ignored",
          "traceback": [
            "\u001b[0;31m---------------------------------------------------------------------------\u001b[0m",
            "\u001b[0;31mNameError\u001b[0m                                 Traceback (most recent call last)",
            "\u001b[0;32m<ipython-input-41-82e493b92eac>\u001b[0m in \u001b[0;36m<module>\u001b[0;34m\u001b[0m\n\u001b[1;32m      3\u001b[0m \u001b[0mprint\u001b[0m\u001b[0;34m(\u001b[0m\u001b[0mL\u001b[0m\u001b[0;34m)\u001b[0m\u001b[0;34m\u001b[0m\u001b[0;34m\u001b[0m\u001b[0m\n\u001b[1;32m      4\u001b[0m \u001b[0;32mdel\u001b[0m \u001b[0mL\u001b[0m\u001b[0;34m\u001b[0m\u001b[0;34m\u001b[0m\u001b[0m\n\u001b[0;32m----> 5\u001b[0;31m \u001b[0mprint\u001b[0m\u001b[0;34m(\u001b[0m\u001b[0mL\u001b[0m\u001b[0;34m)\u001b[0m\u001b[0;34m\u001b[0m\u001b[0;34m\u001b[0m\u001b[0m\n\u001b[0m",
            "\u001b[0;31mNameError\u001b[0m: name 'L' is not defined"
          ]
        }
      ]
    },
    {
      "cell_type": "code",
      "source": [
        "L = [1,2,3,4,5,6]\n",
        "print(L)\n",
        "del L[-1] # index\n",
        "print(L)\n",
        "del L[1:4] # slice\n",
        "print(L)"
      ],
      "metadata": {
        "colab": {
          "base_uri": "https://localhost:8080/"
        },
        "id": "4XbOron27sTV",
        "outputId": "fef4aecf-27f8-44e3-f540-d172f5196675"
      },
      "execution_count": 44,
      "outputs": [
        {
          "output_type": "stream",
          "name": "stdout",
          "text": [
            "[1, 2, 3, 4, 5, 6]\n",
            "[1, 2, 3, 4, 5]\n",
            "[1, 5]\n"
          ]
        }
      ]
    },
    {
      "cell_type": "code",
      "source": [
        "# remove --> remove by value\n",
        "L = [1,2,3,4,5,6]\n",
        "L.remove(6)\n",
        "print(L)\n"
      ],
      "metadata": {
        "colab": {
          "base_uri": "https://localhost:8080/"
        },
        "id": "gKwoOYPB73MQ",
        "outputId": "24daee04-8200-470c-e735-ba91500aa627"
      },
      "execution_count": 46,
      "outputs": [
        {
          "output_type": "stream",
          "name": "stdout",
          "text": [
            "[1, 2, 3, 4, 5]\n"
          ]
        }
      ]
    },
    {
      "cell_type": "code",
      "source": [
        "# pop ---> remove particular index (if index is provided)\n",
        "l = [1,2,3,4,5,6]\n",
        "print(l)\n",
        "l.pop(2)\n",
        "print(l)\n",
        "l.pop() # no index is provided so it will remove the last element\n",
        "print(l)"
      ],
      "metadata": {
        "colab": {
          "base_uri": "https://localhost:8080/"
        },
        "id": "FC9VK96s8OsX",
        "outputId": "73384635-98a4-4349-f696-7eee820457f0"
      },
      "execution_count": 47,
      "outputs": [
        {
          "output_type": "stream",
          "name": "stdout",
          "text": [
            "[1, 2, 3, 4, 5, 6]\n",
            "[1, 2, 4, 5, 6]\n",
            "[1, 2, 4, 5]\n"
          ]
        }
      ]
    },
    {
      "cell_type": "code",
      "source": [
        "# clear()\n",
        "L = [1,2,3,4,5,6]\n",
        "print(L)\n",
        "L.clear()\n",
        "print(L)"
      ],
      "metadata": {
        "colab": {
          "base_uri": "https://localhost:8080/"
        },
        "id": "xFSAYdQNIN2w",
        "outputId": "84a04c9a-b1b8-4367-c7b6-743d2f2eb0c5"
      },
      "execution_count": 62,
      "outputs": [
        {
          "output_type": "stream",
          "name": "stdout",
          "text": [
            "[1, 2, 3, 4, 5, 6]\n",
            "[]\n"
          ]
        }
      ]
    },
    {
      "cell_type": "markdown",
      "source": [
        "#Operators on Lists"
      ],
      "metadata": {
        "id": "DlMA_zkz8tdX"
      }
    },
    {
      "cell_type": "markdown",
      "source": [
        "* Arithmetic\n",
        "* Membership\n",
        "* Loop"
      ],
      "metadata": {
        "id": "eJ7Yhtji8wrS"
      }
    },
    {
      "cell_type": "code",
      "source": [
        "# Arithmetic (+, *) --> Concatinate/Merge\n",
        "\n",
        "L =[1,2,3,4,5]\n",
        "L2 = [6]\n",
        "print(L+L2)"
      ],
      "metadata": {
        "colab": {
          "base_uri": "https://localhost:8080/"
        },
        "id": "UCPrn8He8wR6",
        "outputId": "4e462b72-6cbc-4eab-f977-3400f546c340"
      },
      "execution_count": 48,
      "outputs": [
        {
          "output_type": "stream",
          "name": "stdout",
          "text": [
            "[1, 2, 3, 4, 5, 6]\n"
          ]
        }
      ]
    },
    {
      "cell_type": "code",
      "source": [
        "print(L2*2+L)"
      ],
      "metadata": {
        "colab": {
          "base_uri": "https://localhost:8080/"
        },
        "id": "ASZMiQaN9RSw",
        "outputId": "8cfe6a44-8ddd-4e29-bdb5-d1bc00717ea9"
      },
      "execution_count": 49,
      "outputs": [
        {
          "output_type": "stream",
          "name": "stdout",
          "text": [
            "[6, 6, 1, 2, 3, 4, 5]\n"
          ]
        }
      ]
    },
    {
      "cell_type": "code",
      "source": [
        "# Membership --> in / not in\n",
        "\n",
        "L =[1,2,3,4,5]\n",
        "L2 = [6]\n",
        "print(6 in L)\n",
        "print(6 in L2)\n",
        "\n",
        "L1 = [1,2,[1,2,3]]\n",
        "print(3 in L1)"
      ],
      "metadata": {
        "colab": {
          "base_uri": "https://localhost:8080/"
        },
        "id": "NAT0jRZN9XmF",
        "outputId": "954e6e1c-7469-4c74-b7b0-4084ee8bd000"
      },
      "execution_count": 53,
      "outputs": [
        {
          "output_type": "stream",
          "name": "stdout",
          "text": [
            "False\n",
            "True\n",
            "False\n"
          ]
        }
      ]
    },
    {
      "cell_type": "code",
      "source": [
        "# loop\n",
        "L = [1,2,3,4,[5,6]]\n",
        "for i in L:\n",
        "    print(i)"
      ],
      "metadata": {
        "colab": {
          "base_uri": "https://localhost:8080/"
        },
        "id": "svCz4GH8HMAo",
        "outputId": "da6751a4-2649-4e53-e80d-d8d0d7d87429"
      },
      "execution_count": 61,
      "outputs": [
        {
          "output_type": "stream",
          "name": "stdout",
          "text": [
            "1\n",
            "2\n",
            "3\n",
            "4\n",
            "[5, 6]\n"
          ]
        }
      ]
    },
    {
      "cell_type": "markdown",
      "source": [
        "#List Functions"
      ],
      "metadata": {
        "id": "EuseFuGtIYRM"
      }
    },
    {
      "cell_type": "code",
      "source": [
        "# len/min/max/sorted\n",
        "L = [1,2,3,4,5,6]\n",
        "print(len(L))\n",
        "print(min(L))\n",
        "print(max(L))\n",
        "print(sorted(L)) # not a permanent operation\n",
        "print(sorted(L,reverse = True)) # sane"
      ],
      "metadata": {
        "colab": {
          "base_uri": "https://localhost:8080/"
        },
        "id": "myRatYkGHUz2",
        "outputId": "256ad8c7-492b-4dbc-a21e-62941ebd3a44"
      },
      "execution_count": 65,
      "outputs": [
        {
          "output_type": "stream",
          "name": "stdout",
          "text": [
            "6\n",
            "1\n",
            "6\n",
            "[1, 2, 3, 4, 5, 6]\n",
            "[6, 5, 4, 3, 2, 1]\n"
          ]
        }
      ]
    },
    {
      "cell_type": "code",
      "source": [
        "# count ---> frequency\n",
        "L =[1,2,3,4,5,6]\n",
        "L.count(5)"
      ],
      "metadata": {
        "colab": {
          "base_uri": "https://localhost:8080/"
        },
        "id": "0QUd2OXoIzcC",
        "outputId": "e1f6db03-b149-4cbd-fc52-141882df8fb2"
      },
      "execution_count": 67,
      "outputs": [
        {
          "output_type": "execute_result",
          "data": {
            "text/plain": [
              "1"
            ]
          },
          "metadata": {},
          "execution_count": 67
        }
      ]
    },
    {
      "cell_type": "code",
      "source": [
        "# index ----> first occurance\n",
        "L.index(5)\n",
        "L.index(-100.8) # Shows error"
      ],
      "metadata": {
        "colab": {
          "base_uri": "https://localhost:8080/",
          "height": 206
        },
        "id": "uoF4fO0DI9xR",
        "outputId": "e569735f-d4b4-462e-898b-375efd7b0d6a"
      },
      "execution_count": 70,
      "outputs": [
        {
          "output_type": "error",
          "ename": "ValueError",
          "evalue": "ignored",
          "traceback": [
            "\u001b[0;31m---------------------------------------------------------------------------\u001b[0m",
            "\u001b[0;31mValueError\u001b[0m                                Traceback (most recent call last)",
            "\u001b[0;32m<ipython-input-70-ca22578e35a6>\u001b[0m in \u001b[0;36m<module>\u001b[0;34m\u001b[0m\n\u001b[1;32m      1\u001b[0m \u001b[0;31m# index ----> first occurance\u001b[0m\u001b[0;34m\u001b[0m\u001b[0;34m\u001b[0m\u001b[0;34m\u001b[0m\u001b[0m\n\u001b[1;32m      2\u001b[0m \u001b[0mL\u001b[0m\u001b[0;34m.\u001b[0m\u001b[0mindex\u001b[0m\u001b[0;34m(\u001b[0m\u001b[0;36m5\u001b[0m\u001b[0;34m)\u001b[0m\u001b[0;34m\u001b[0m\u001b[0;34m\u001b[0m\u001b[0m\n\u001b[0;32m----> 3\u001b[0;31m \u001b[0mL\u001b[0m\u001b[0;34m.\u001b[0m\u001b[0mindex\u001b[0m\u001b[0;34m(\u001b[0m\u001b[0;34m-\u001b[0m\u001b[0;36m100.8\u001b[0m\u001b[0;34m)\u001b[0m \u001b[0;31m# Shows error\u001b[0m\u001b[0;34m\u001b[0m\u001b[0;34m\u001b[0m\u001b[0m\n\u001b[0m",
            "\u001b[0;31mValueError\u001b[0m: -100.8 is not in list"
          ]
        }
      ]
    },
    {
      "cell_type": "code",
      "source": [
        "# reverse\n",
        "L = [1,2,3,4,5,6]\n",
        "L.reverse() # it permanently reverse the list\n",
        "print(L)"
      ],
      "metadata": {
        "colab": {
          "base_uri": "https://localhost:8080/"
        },
        "id": "xqQlF_rQJMdo",
        "outputId": "a7e6ce43-b3c2-4560-b883-0fe40e962563"
      },
      "execution_count": 73,
      "outputs": [
        {
          "output_type": "stream",
          "name": "stdout",
          "text": [
            "[6, 5, 4, 3, 2, 1]\n"
          ]
        }
      ]
    },
    {
      "cell_type": "code",
      "source": [
        "# sort ---> permanently sort\n",
        "L = [89271289,9186,81368961,9017521,3901758975,40987598719]\n",
        "print(sorted(L)) # doesnot permanently sort\n",
        "print(L)\n",
        "L.sort()\n",
        "print(L)"
      ],
      "metadata": {
        "colab": {
          "base_uri": "https://localhost:8080/"
        },
        "id": "wn9o2e1NJTNs",
        "outputId": "102dcbb4-2622-406d-d464-65e5eff4b4b7"
      },
      "execution_count": 77,
      "outputs": [
        {
          "output_type": "stream",
          "name": "stdout",
          "text": [
            "[9186, 9017521, 81368961, 89271289, 3901758975, 40987598719]\n",
            "[89271289, 9186, 81368961, 9017521, 3901758975, 40987598719]\n",
            "[9186, 9017521, 81368961, 89271289, 3901758975, 40987598719]\n"
          ]
        }
      ]
    },
    {
      "cell_type": "code",
      "source": [
        "# copy\n",
        "L = [1,2,3,4,5,6]\n",
        "L1 = L.copy() # shalow copy\n",
        "print(L)\n",
        "print(L1)\n",
        "print(id(L))\n",
        "print(id(L1))"
      ],
      "metadata": {
        "colab": {
          "base_uri": "https://localhost:8080/"
        },
        "id": "AB-CZZwcJyRr",
        "outputId": "4a34e7fe-9e01-44a8-86e9-bc46eb589f31"
      },
      "execution_count": 80,
      "outputs": [
        {
          "output_type": "stream",
          "name": "stdout",
          "text": [
            "[1, 2, 3, 4, 5, 6]\n",
            "[1, 2, 3, 4, 5, 6]\n",
            "139756415669056\n",
            "139756414053120\n"
          ]
        }
      ]
    },
    {
      "cell_type": "markdown",
      "source": [
        "#List Comprehension"
      ],
      "metadata": {
        "id": "4WAHNlAPQe-w"
      }
    },
    {
      "cell_type": "markdown",
      "source": [
        "List Comprehension provides a concise way of creating lists.\n",
        "\n",
        "* newlist = [expression *for* item *in* iterable if condition == True]\n",
        "\n",
        "Advantage of List Comprehension\n",
        "* More time-efficient and space-efficient than loops.\n",
        "* Requires fewer lines of codes.\n",
        "* Transform iterative statement into a formula."
      ],
      "metadata": {
        "id": "D6J73msdQiiA"
      }
    },
    {
      "cell_type": "code",
      "source": [
        "# Add 1 to 10 numbers to a list\n",
        "\n",
        "L = []\n",
        "for i in range(1,11):\n",
        "    L.append(i)\n",
        "print(L)\n",
        "\n"
      ],
      "metadata": {
        "colab": {
          "base_uri": "https://localhost:8080/"
        },
        "id": "RUOSsDIXKOZz",
        "outputId": "fccc9e73-84c0-40c6-ec52-46c51584ef87"
      },
      "execution_count": 83,
      "outputs": [
        {
          "output_type": "stream",
          "name": "stdout",
          "text": [
            "[1, 2, 3, 4, 5, 6, 7, 8, 9, 10]\n"
          ]
        }
      ]
    },
    {
      "cell_type": "code",
      "source": [
        "L = [i for i in range(1,11)]\n",
        "print(L)\n"
      ],
      "metadata": {
        "colab": {
          "base_uri": "https://localhost:8080/"
        },
        "id": "Ct4YFk2vR3Oq",
        "outputId": "4cd21f9f-ff88-48d9-9da5-3cd0f7349fdf"
      },
      "execution_count": 84,
      "outputs": [
        {
          "output_type": "stream",
          "name": "stdout",
          "text": [
            "[1, 2, 3, 4, 5, 6, 7, 8, 9, 10]\n"
          ]
        }
      ]
    },
    {
      "cell_type": "code",
      "source": [
        "# scalar multiplication of a vector\n",
        "v = [2,3,4]\n",
        "s = -3\n",
        "L = []\n",
        "for i in v:\n",
        "    L.append(i*s)\n",
        "print(L)"
      ],
      "metadata": {
        "colab": {
          "base_uri": "https://localhost:8080/"
        },
        "id": "BFPMZqSbR-SK",
        "outputId": "21bb9772-4aac-46fa-82e6-104c693f8d04"
      },
      "execution_count": 86,
      "outputs": [
        {
          "output_type": "stream",
          "name": "stdout",
          "text": [
            "[-6, -9, -12]\n"
          ]
        }
      ]
    },
    {
      "cell_type": "code",
      "source": [
        "v = [2,3,4]\n",
        "s = -3\n",
        "\n",
        "L = [i*s for i in v]\n",
        "print(L)"
      ],
      "metadata": {
        "colab": {
          "base_uri": "https://localhost:8080/"
        },
        "id": "XFh92T-KSkVx",
        "outputId": "988cb219-95d3-4550-f1d0-86128c43a74d"
      },
      "execution_count": 87,
      "outputs": [
        {
          "output_type": "stream",
          "name": "stdout",
          "text": [
            "[-6, -9, -12]\n"
          ]
        }
      ]
    },
    {
      "cell_type": "code",
      "source": [
        "# Add Squares\n",
        "\n",
        "L = [1,2,3,4,5]\n",
        "L1 = [i*i for i in L]\n",
        "print(L1)"
      ],
      "metadata": {
        "colab": {
          "base_uri": "https://localhost:8080/"
        },
        "id": "Yocruo1KSttR",
        "outputId": "7be74c45-52e5-4fa8-dd84-1205acd1f01b"
      },
      "execution_count": 88,
      "outputs": [
        {
          "output_type": "stream",
          "name": "stdout",
          "text": [
            "[1, 4, 9, 16, 25]\n"
          ]
        }
      ]
    },
    {
      "cell_type": "code",
      "source": [
        "# print all numbers divisible by 5 in range of 1 to 50\n",
        "\n",
        "L = [num for num in range(1,51) if num%5==00]\n",
        "print(L)\n"
      ],
      "metadata": {
        "colab": {
          "base_uri": "https://localhost:8080/"
        },
        "id": "Dv3lfIfTS5KT",
        "outputId": "a0d57bb5-5659-47bf-a7e0-4ef525ca1ce6"
      },
      "execution_count": 89,
      "outputs": [
        {
          "output_type": "stream",
          "name": "stdout",
          "text": [
            "[5, 10, 15, 20, 25, 30, 35, 40, 45, 50]\n"
          ]
        }
      ]
    },
    {
      "cell_type": "code",
      "source": [
        "# find languages which start with letter p\n",
        "languages = ['java','python','php','c','javascript']\n",
        "\n",
        "L = [language for language in languages if language.startswith('p')]\n",
        "print(L)"
      ],
      "metadata": {
        "colab": {
          "base_uri": "https://localhost:8080/"
        },
        "id": "4st11iZTTKIj",
        "outputId": "49b09db5-b212-4dce-b333-dce60f4d5da3"
      },
      "execution_count": 93,
      "outputs": [
        {
          "output_type": "stream",
          "name": "stdout",
          "text": [
            "['python', 'php']\n"
          ]
        }
      ]
    },
    {
      "cell_type": "code",
      "source": [
        "# Nested if with List Comprehension\n",
        "basket = ['apple','guava','cherry','banana']\n",
        "my_fruits = ['apple','kiwi','grapes','banana']\n",
        "\n",
        "# add new list from my_fruits and items if the fruit exits in basket and also starts with 'a\n",
        "\n",
        "common = [fruit for fruit in my_fruits if fruit in basket if fruit.startswith('a')]\n",
        "print(common)"
      ],
      "metadata": {
        "colab": {
          "base_uri": "https://localhost:8080/"
        },
        "id": "ZmE2HyRBToVn",
        "outputId": "aaf484b5-aa7b-4096-9f2d-9829effce6d6"
      },
      "execution_count": 94,
      "outputs": [
        {
          "output_type": "stream",
          "name": "stdout",
          "text": [
            "['apple']\n"
          ]
        }
      ]
    },
    {
      "cell_type": "code",
      "source": [
        "# print a (3,3,) matrix using list comprehension -> nested list comprehension\n",
        "\n",
        "[[j for j in range(1,4)] for i in range(1,4)]\n",
        "\n"
      ],
      "metadata": {
        "colab": {
          "base_uri": "https://localhost:8080/"
        },
        "id": "U0niNV9AU7sP",
        "outputId": "c0e4e2c7-141c-4189-a785-de5f5b6305d7"
      },
      "execution_count": 100,
      "outputs": [
        {
          "output_type": "execute_result",
          "data": {
            "text/plain": [
              "[[1, 2, 3], [1, 2, 3], [1, 2, 3]]"
            ]
          },
          "metadata": {},
          "execution_count": 100
        }
      ]
    },
    {
      "cell_type": "code",
      "source": [
        "# cartisian product --> List comprehension on 2 lists together\n",
        "L1 = [1,2,3,4,5,6]\n",
        "L2 = [7,8,9,0]\n",
        "\n",
        "L3 = [i*j for i in L1 for j in L2]\n",
        "print(L3)"
      ],
      "metadata": {
        "colab": {
          "base_uri": "https://localhost:8080/"
        },
        "id": "or01EjkUVeD0",
        "outputId": "832e365e-f85c-4675-959c-4be2ec2d335a"
      },
      "execution_count": 104,
      "outputs": [
        {
          "output_type": "stream",
          "name": "stdout",
          "text": [
            "[7, 8, 9, 0, 14, 16, 18, 0, 21, 24, 27, 0, 28, 32, 36, 0, 35, 40, 45, 0, 42, 48, 54, 0]\n"
          ]
        }
      ]
    },
    {
      "cell_type": "markdown",
      "source": [
        "#2 ways to transverse a list"
      ],
      "metadata": {
        "id": "tF_ZG34AXN_Z"
      }
    },
    {
      "cell_type": "markdown",
      "source": [
        "* itemwise\n",
        "* indexwise"
      ],
      "metadata": {
        "id": "cEmmtNU_XSpY"
      }
    },
    {
      "cell_type": "code",
      "source": [
        "# itemwise\n",
        "L =[1,2,3,4,5,6]\n",
        "for i in L:\n",
        "    print(i)"
      ],
      "metadata": {
        "colab": {
          "base_uri": "https://localhost:8080/"
        },
        "id": "ZZ0Gaey9WGSu",
        "outputId": "235db3b4-e9ab-4206-f2f9-1503580d91a1"
      },
      "execution_count": 105,
      "outputs": [
        {
          "output_type": "stream",
          "name": "stdout",
          "text": [
            "1\n",
            "2\n",
            "3\n",
            "4\n",
            "5\n",
            "6\n"
          ]
        }
      ]
    },
    {
      "cell_type": "code",
      "source": [
        "# indexwise\n",
        "L = [1,2,3,4,5,6]\n",
        "for i in range(0,len(L)):\n",
        "    print(L[i])"
      ],
      "metadata": {
        "colab": {
          "base_uri": "https://localhost:8080/"
        },
        "id": "bhvETQgHXcJP",
        "outputId": "156e5245-d204-4dca-c34d-696429b6b6ae"
      },
      "execution_count": 108,
      "outputs": [
        {
          "output_type": "stream",
          "name": "stdout",
          "text": [
            "1\n",
            "2\n",
            "3\n",
            "4\n",
            "5\n",
            "6\n"
          ]
        }
      ]
    },
    {
      "cell_type": "markdown",
      "source": [
        "#Zip"
      ],
      "metadata": {
        "id": "PVYcQe3UX42G"
      }
    },
    {
      "cell_type": "markdown",
      "source": [
        "The zip() funtion returns a zip object, which is an iterator of tuples where the firt item in each passed iterator is paired together, and then the second item in each passed itrator are paied together.\n",
        "\n",
        "If the passed iterators hav different lengths, the iterator with the least items decides the length of the new iterator."
      ],
      "metadata": {
        "id": "yMSGIHodX6j6"
      }
    },
    {
      "cell_type": "code",
      "source": [
        "# Write a program to add items of 2 lists indexwise\n",
        "\n",
        "L1 = [1,2,3,4]\n",
        "L2 = [-1,-2,-3,-4]\n",
        "\n",
        "list(zip(L1,L2))\n",
        "\n",
        "[i+j for i,j in zip(L1,L2)]"
      ],
      "metadata": {
        "colab": {
          "base_uri": "https://localhost:8080/"
        },
        "id": "qI3vaTbxXn7m",
        "outputId": "c9e3be21-435d-4a64-cfdd-e86c88b20cac"
      },
      "execution_count": 110,
      "outputs": [
        {
          "output_type": "execute_result",
          "data": {
            "text/plain": [
              "[0, 0, 0, 0]"
            ]
          },
          "metadata": {},
          "execution_count": 110
        }
      ]
    },
    {
      "cell_type": "markdown",
      "source": [
        "#Disadvantages of Python List"
      ],
      "metadata": {
        "id": "3cUYApZaZgTx"
      }
    },
    {
      "cell_type": "markdown",
      "source": [
        "* Slow\n",
        "* Risky usage\n",
        "* Eats up more memory"
      ],
      "metadata": {
        "id": "nre6bELAZvt0"
      }
    }
  ]
}