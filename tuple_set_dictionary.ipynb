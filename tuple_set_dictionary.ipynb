{
  "nbformat": 4,
  "nbformat_minor": 0,
  "metadata": {
    "colab": {
      "provenance": [],
      "authorship_tag": "ABX9TyNuT0Bp5Z4qYv/GaBNG8B4X",
      "include_colab_link": true
    },
    "kernelspec": {
      "name": "python3",
      "display_name": "Python 3"
    },
    "language_info": {
      "name": "python"
    }
  },
  "cells": [
    {
      "cell_type": "markdown",
      "metadata": {
        "id": "view-in-github",
        "colab_type": "text"
      },
      "source": [
        "<a href=\"https://colab.research.google.com/github/Divs-Git/Python/blob/main/tuple_set_dictionary.ipynb\" target=\"_parent\"><img src=\"https://colab.research.google.com/assets/colab-badge.svg\" alt=\"Open In Colab\"/></a>"
      ]
    },
    {
      "cell_type": "markdown",
      "source": [
        "#Tuples"
      ],
      "metadata": {
        "id": "dzzIUW10ul7I"
      }
    },
    {
      "cell_type": "markdown",
      "source": [
        "A tuple in python is similiar to a list. The differnce between the two is that we cannot change the elements of a tuple once it is assigned whereas we can the elements of a list.\n",
        "\n",
        "In short, a tuple is an immutable list. A tuple can not be changed in any way once it is created.\n",
        "\n",
        "Characteristics\n",
        "* Ordered\n",
        "* Unchangable\n",
        "* Allows duplicate"
      ],
      "metadata": {
        "id": "RDw8-fluutHH"
      }
    },
    {
      "cell_type": "markdown",
      "source": [
        "#Creating Tuples"
      ],
      "metadata": {
        "id": "ldoPcZ9u0r1e"
      }
    },
    {
      "cell_type": "code",
      "execution_count": null,
      "metadata": {
        "colab": {
          "base_uri": "https://localhost:8080/"
        },
        "id": "agXS2_NprcLx",
        "outputId": "2ad9ba28-489b-4717-9169-82e9dcca634f"
      },
      "outputs": [
        {
          "output_type": "stream",
          "name": "stdout",
          "text": [
            "()\n",
            "('h', 'e', 'l', 'l', 'o')\n"
          ]
        }
      ],
      "source": [
        "# Empty tuple\n",
        "t1 = ()\n",
        "print(t1)\n",
        "\n",
        "# create a tuple with a single item\n",
        "t2 = ('hello')    # class = str\n",
        "t3 = (1) # class = int\n",
        "t4 = (1,)  # class ====== tuple\n",
        "\n",
        "# homo\n",
        "t = (1,2,3,4,5)\n",
        "\n",
        "# hetero\n",
        "t6 = (1,2,\"string\")\n",
        "\n",
        "#tuple of tuples\n",
        "t8 = (1,2,3,(4,5,6))\n",
        "\n",
        "# using tuple conversion\n",
        "t9 = tuple(\"hello\")\n",
        "print(t9)"
      ]
    },
    {
      "cell_type": "markdown",
      "source": [
        "# Accessing Items\n",
        "\n",
        "* indexing\n",
        "* slicing"
      ],
      "metadata": {
        "id": "k2OoJovM7OTL"
      }
    },
    {
      "cell_type": "code",
      "source": [
        "t = (1,2,3,4,5,6)\n",
        "print(t[3])\n",
        "print(t[-2])"
      ],
      "metadata": {
        "colab": {
          "base_uri": "https://localhost:8080/"
        },
        "id": "0PoggJ957RP4",
        "outputId": "33b5d4ee-3090-45a8-b5bc-021dd9f9e31a"
      },
      "execution_count": null,
      "outputs": [
        {
          "output_type": "stream",
          "name": "stdout",
          "text": [
            "4\n",
            "5\n"
          ]
        }
      ]
    },
    {
      "cell_type": "code",
      "source": [
        "print(t[3:6:2])\n",
        "print(t[-3:-6:-2])"
      ],
      "metadata": {
        "colab": {
          "base_uri": "https://localhost:8080/"
        },
        "id": "Dnuo_NSL7h0g",
        "outputId": "7fb08ac0-ea7e-47b9-9270-784d3b7cead9"
      },
      "execution_count": null,
      "outputs": [
        {
          "output_type": "stream",
          "name": "stdout",
          "text": [
            "(4, 6)\n",
            "(4, 2)\n"
          ]
        }
      ]
    },
    {
      "cell_type": "markdown",
      "source": [
        "# Editing items"
      ],
      "metadata": {
        "id": "nsdDcjYh7ymU"
      }
    },
    {
      "cell_type": "code",
      "source": [
        "t = (1,2,3,4,5,6)\n",
        "t[0] = 123 #tuples are immuatble"
      ],
      "metadata": {
        "colab": {
          "base_uri": "https://localhost:8080/",
          "height": 224
        },
        "id": "hM5nZLsK71Xz",
        "outputId": "3a3da81a-d534-4438-bee4-2e8ace835fc9"
      },
      "execution_count": null,
      "outputs": [
        {
          "output_type": "error",
          "ename": "TypeError",
          "evalue": "ignored",
          "traceback": [
            "\u001b[0;31m---------------------------------------------------------------------------\u001b[0m",
            "\u001b[0;31mTypeError\u001b[0m                                 Traceback (most recent call last)",
            "\u001b[0;32m<ipython-input-10-d4d673400ee7>\u001b[0m in \u001b[0;36m<module>\u001b[0;34m\u001b[0m\n\u001b[1;32m      1\u001b[0m \u001b[0mt\u001b[0m \u001b[0;34m=\u001b[0m \u001b[0;34m(\u001b[0m\u001b[0;36m1\u001b[0m\u001b[0;34m,\u001b[0m\u001b[0;36m2\u001b[0m\u001b[0;34m,\u001b[0m\u001b[0;36m3\u001b[0m\u001b[0;34m,\u001b[0m\u001b[0;36m4\u001b[0m\u001b[0;34m,\u001b[0m\u001b[0;36m5\u001b[0m\u001b[0;34m,\u001b[0m\u001b[0;36m6\u001b[0m\u001b[0;34m)\u001b[0m\u001b[0;34m\u001b[0m\u001b[0;34m\u001b[0m\u001b[0m\n\u001b[0;32m----> 2\u001b[0;31m \u001b[0mt\u001b[0m\u001b[0;34m[\u001b[0m\u001b[0;36m0\u001b[0m\u001b[0;34m]\u001b[0m \u001b[0;34m=\u001b[0m \u001b[0;36m123\u001b[0m\u001b[0;34m\u001b[0m\u001b[0;34m\u001b[0m\u001b[0m\n\u001b[0m",
            "\u001b[0;31mTypeError\u001b[0m: 'tuple' object does not support item assignment"
          ]
        }
      ]
    },
    {
      "cell_type": "markdown",
      "source": [
        "#Adding items"
      ],
      "metadata": {
        "id": "hpWitiN28CqQ"
      }
    },
    {
      "cell_type": "code",
      "source": [
        "# cannot append or extend or insert"
      ],
      "metadata": {
        "id": "S-czaQfp7n22"
      },
      "execution_count": null,
      "outputs": []
    },
    {
      "cell_type": "markdown",
      "source": [
        "#Deleting items"
      ],
      "metadata": {
        "id": "N_3K3Jxe8L-G"
      }
    },
    {
      "cell_type": "code",
      "source": [
        "# del ---> works\n",
        "# del t[0] ----> doenot works"
      ],
      "metadata": {
        "id": "14RiYPyh8OUl"
      },
      "execution_count": null,
      "outputs": []
    },
    {
      "cell_type": "markdown",
      "source": [
        "#Operations on Tuples"
      ],
      "metadata": {
        "id": "2ibdeX_Y8ysq"
      }
    },
    {
      "cell_type": "code",
      "source": [
        "# +     *\n",
        "# in    not in"
      ],
      "metadata": {
        "id": "iTy5b0Fg8YLr"
      },
      "execution_count": null,
      "outputs": []
    },
    {
      "cell_type": "markdown",
      "source": [
        "#Tuple functions"
      ],
      "metadata": {
        "id": "DBTjbFEY9fT3"
      }
    },
    {
      "cell_type": "code",
      "source": [
        "# len/sum/min/max/sorted\n",
        "# sorted doesn't make change to original datatypes and always typecasts to list"
      ],
      "metadata": {
        "id": "DSrVDU-w9FvV"
      },
      "execution_count": null,
      "outputs": []
    },
    {
      "cell_type": "code",
      "source": [
        "#count\n",
        "\n",
        "t = (1,2,3,4,5,6)\n",
        "t.count(5)\n"
      ],
      "metadata": {
        "colab": {
          "base_uri": "https://localhost:8080/"
        },
        "id": "Ov3_jihV9nOL",
        "outputId": "528b966b-3489-4f00-f48a-1fdbfa05a6ea"
      },
      "execution_count": null,
      "outputs": [
        {
          "output_type": "execute_result",
          "data": {
            "text/plain": [
              "1"
            ]
          },
          "metadata": {},
          "execution_count": 17
        }
      ]
    },
    {
      "cell_type": "code",
      "source": [
        "#index\n",
        "\n",
        "t.index(5)"
      ],
      "metadata": {
        "colab": {
          "base_uri": "https://localhost:8080/"
        },
        "id": "o6kyFPvP99LK",
        "outputId": "46306364-5336-42ab-ae68-b31e9780f55b"
      },
      "execution_count": null,
      "outputs": [
        {
          "output_type": "execute_result",
          "data": {
            "text/plain": [
              "4"
            ]
          },
          "metadata": {},
          "execution_count": 18
        }
      ]
    },
    {
      "cell_type": "code",
      "source": [
        "t.index(-1) # thows error"
      ],
      "metadata": {
        "colab": {
          "base_uri": "https://localhost:8080/",
          "height": 206
        },
        "id": "NkRsWPIV-ER4",
        "outputId": "b77cf050-9cb8-4a93-e02c-aa9802c08a97"
      },
      "execution_count": null,
      "outputs": [
        {
          "output_type": "error",
          "ename": "ValueError",
          "evalue": "ignored",
          "traceback": [
            "\u001b[0;31m---------------------------------------------------------------------------\u001b[0m",
            "\u001b[0;31mValueError\u001b[0m                                Traceback (most recent call last)",
            "\u001b[0;32m<ipython-input-19-7ee64bd866c5>\u001b[0m in \u001b[0;36m<module>\u001b[0;34m\u001b[0m\n\u001b[0;32m----> 1\u001b[0;31m \u001b[0mt\u001b[0m\u001b[0;34m.\u001b[0m\u001b[0mindex\u001b[0m\u001b[0;34m(\u001b[0m\u001b[0;34m-\u001b[0m\u001b[0;36m1\u001b[0m\u001b[0;34m)\u001b[0m\u001b[0;34m\u001b[0m\u001b[0;34m\u001b[0m\u001b[0m\n\u001b[0m",
            "\u001b[0;31mValueError\u001b[0m: tuple.index(x): x not in tuple"
          ]
        }
      ]
    },
    {
      "cell_type": "markdown",
      "source": [
        "#Difference between lists and Tuples\n",
        "\n",
        "* Syntax\n",
        "* Mutability\n",
        "* Speed ---> tuples are faster\n",
        "* Memory --> tuples less memory\n",
        "* Built in functionality\n",
        "* Error Prone\n",
        "* Usability : security"
      ],
      "metadata": {
        "id": "dQ3T6mSaLxeh"
      }
    },
    {
      "cell_type": "markdown",
      "source": [
        "#Special Syntax"
      ],
      "metadata": {
        "id": "lsS4YChONLgX"
      }
    },
    {
      "cell_type": "code",
      "source": [
        "# tuple unpacking\n",
        "a,b,c = (1,2,3)\n",
        "print(a,b,c)"
      ],
      "metadata": {
        "id": "HvqQwrea-GEg",
        "colab": {
          "base_uri": "https://localhost:8080/"
        },
        "outputId": "1f81d849-f364-4eb4-f9dd-9273784009cf"
      },
      "execution_count": 1,
      "outputs": [
        {
          "output_type": "stream",
          "name": "stdout",
          "text": [
            "1 2 3\n"
          ]
        }
      ]
    },
    {
      "cell_type": "code",
      "source": [
        "a = 1\n",
        "b = 2\n",
        "a,b = b,a\n",
        "print(a,b)"
      ],
      "metadata": {
        "colab": {
          "base_uri": "https://localhost:8080/"
        },
        "id": "5S-Whm8MNY1B",
        "outputId": "23edea77-19a0-4fe3-cf8d-397480fb987a"
      },
      "execution_count": 2,
      "outputs": [
        {
          "output_type": "stream",
          "name": "stdout",
          "text": [
            "2 1\n"
          ]
        }
      ]
    },
    {
      "cell_type": "code",
      "source": [
        "a,b,*others = (1,2,3,4)\n",
        "print(a,b)\n",
        "print(others)"
      ],
      "metadata": {
        "colab": {
          "base_uri": "https://localhost:8080/"
        },
        "id": "eJXtEKgLNdU0",
        "outputId": "af417557-7b2c-435c-b244-a5614e55c925"
      },
      "execution_count": 3,
      "outputs": [
        {
          "output_type": "stream",
          "name": "stdout",
          "text": [
            "1 2\n",
            "[3, 4]\n"
          ]
        }
      ]
    },
    {
      "cell_type": "code",
      "source": [
        "# Zipping tuples\n",
        "a =(1,2,3,4)\n",
        "b = (5,6)\n",
        "list(zip(a,b))"
      ],
      "metadata": {
        "colab": {
          "base_uri": "https://localhost:8080/"
        },
        "id": "rMlJpjKQNk3c",
        "outputId": "b687b19f-7c2b-4f4f-8344-b8a3e463a3f3"
      },
      "execution_count": 4,
      "outputs": [
        {
          "output_type": "execute_result",
          "data": {
            "text/plain": [
              "[(1, 5), (2, 6)]"
            ]
          },
          "metadata": {},
          "execution_count": 4
        }
      ]
    },
    {
      "cell_type": "code",
      "source": [
        "tuple(zip(a,b))"
      ],
      "metadata": {
        "colab": {
          "base_uri": "https://localhost:8080/"
        },
        "id": "WIKeGiFuNwVa",
        "outputId": "ba885be3-672b-4bec-e436-02150415b4fd"
      },
      "execution_count": 5,
      "outputs": [
        {
          "output_type": "execute_result",
          "data": {
            "text/plain": [
              "((1, 5), (2, 6))"
            ]
          },
          "metadata": {},
          "execution_count": 5
        }
      ]
    },
    {
      "cell_type": "markdown",
      "source": [
        "#Sets\n",
        "\n",
        "A set is an unordered collection of items. Every set element is unique (no duplicates) and must be immutable (cannot be changed). However, a set itself is mutable. We can add or remove items from it.\n",
        "Set can also be used to perform mathematical set operations like union, interaction, symmetric difference, etc.\n",
        "\n",
        "Characteristics:\n",
        "*  Unordered\n",
        "* Mutable\n",
        "* No Duplicate\n",
        "* Can't contain mutable data types"
      ],
      "metadata": {
        "id": "-m3sNhpzOETn"
      }
    },
    {
      "cell_type": "markdown",
      "source": [
        "#Creating sets"
      ],
      "metadata": {
        "id": "S4aMgJHWPcqU"
      }
    },
    {
      "cell_type": "code",
      "source": [
        "# empty set\n",
        "#s = {} ----> makes dictionary\n",
        "s = set()\n",
        "print(s)\n",
        "print(type(s))"
      ],
      "metadata": {
        "colab": {
          "base_uri": "https://localhost:8080/"
        },
        "id": "KEP0nuKENzVI",
        "outputId": "542e7119-1b31-433e-af05-69d6e8600a96"
      },
      "execution_count": 7,
      "outputs": [
        {
          "output_type": "stream",
          "name": "stdout",
          "text": [
            "set()\n",
            "<class 'set'>\n"
          ]
        }
      ]
    },
    {
      "cell_type": "code",
      "source": [
        "# 1D\n",
        "s1 = {1,2,3}\n",
        "print(s1)"
      ],
      "metadata": {
        "colab": {
          "base_uri": "https://localhost:8080/"
        },
        "id": "Iix7rDOuPsSf",
        "outputId": "f7b65cb4-e359-4b8e-bc1f-0190079952f0"
      },
      "execution_count": 8,
      "outputs": [
        {
          "output_type": "stream",
          "name": "stdout",
          "text": [
            "{1, 2, 3}\n"
          ]
        }
      ]
    },
    {
      "cell_type": "code",
      "source": [
        "# 2D\n",
        "s1 = {1,2,3,{4,5,6}}\n",
        "print(s1)"
      ],
      "metadata": {
        "colab": {
          "base_uri": "https://localhost:8080/",
          "height": 206
        },
        "id": "gQISl5viPz98",
        "outputId": "45fe3e2e-3919-4722-bce2-e8133fa36f14"
      },
      "execution_count": 9,
      "outputs": [
        {
          "output_type": "error",
          "ename": "TypeError",
          "evalue": "ignored",
          "traceback": [
            "\u001b[0;31m---------------------------------------------------------------------------\u001b[0m",
            "\u001b[0;31mTypeError\u001b[0m                                 Traceback (most recent call last)",
            "\u001b[0;32m<ipython-input-9-e02610b48141>\u001b[0m in \u001b[0;36m<module>\u001b[0;34m\u001b[0m\n\u001b[1;32m      1\u001b[0m \u001b[0;31m# 2D\u001b[0m\u001b[0;34m\u001b[0m\u001b[0;34m\u001b[0m\u001b[0;34m\u001b[0m\u001b[0m\n\u001b[0;32m----> 2\u001b[0;31m \u001b[0ms1\u001b[0m \u001b[0;34m=\u001b[0m \u001b[0;34m{\u001b[0m\u001b[0;36m1\u001b[0m\u001b[0;34m,\u001b[0m\u001b[0;36m2\u001b[0m\u001b[0;34m,\u001b[0m\u001b[0;36m3\u001b[0m\u001b[0;34m,\u001b[0m\u001b[0;34m{\u001b[0m\u001b[0;36m4\u001b[0m\u001b[0;34m,\u001b[0m\u001b[0;36m5\u001b[0m\u001b[0;34m,\u001b[0m\u001b[0;36m6\u001b[0m\u001b[0;34m}\u001b[0m\u001b[0;34m}\u001b[0m\u001b[0;34m\u001b[0m\u001b[0;34m\u001b[0m\u001b[0m\n\u001b[0m\u001b[1;32m      3\u001b[0m \u001b[0mprint\u001b[0m\u001b[0;34m(\u001b[0m\u001b[0ms1\u001b[0m\u001b[0;34m)\u001b[0m\u001b[0;34m\u001b[0m\u001b[0;34m\u001b[0m\u001b[0m\n",
            "\u001b[0;31mTypeError\u001b[0m: unhashable type: 'set'"
          ]
        }
      ]
    },
    {
      "cell_type": "code",
      "source": [
        "# hetero\n",
        "s3 = {1,'hello',4.5,True,(1,2,3)}\n",
        "print(s3) #-----> 1 and True are same\n",
        "\n",
        "#unordered ---> hashing determines the position and we can't control it"
      ],
      "metadata": {
        "colab": {
          "base_uri": "https://localhost:8080/"
        },
        "id": "GOeRykzKP48T",
        "outputId": "28435f12-ae35-4135-e853-154e4a4274b5"
      },
      "execution_count": 11,
      "outputs": [
        {
          "output_type": "stream",
          "name": "stdout",
          "text": [
            "{1, (1, 2, 3), 4.5, 'hello'}\n"
          ]
        }
      ]
    },
    {
      "cell_type": "code",
      "source": [
        "s1 = {1,2,3}\n",
        "s2 = {3,2,1}\n",
        "\n",
        "print(s1 == s2)"
      ],
      "metadata": {
        "colab": {
          "base_uri": "https://localhost:8080/"
        },
        "id": "P6p01_PJQEj0",
        "outputId": "9aa37aa0-0197-47c6-97f1-8978c86370a7"
      },
      "execution_count": 12,
      "outputs": [
        {
          "output_type": "stream",
          "name": "stdout",
          "text": [
            "True\n"
          ]
        }
      ]
    },
    {
      "cell_type": "markdown",
      "source": [
        "#Accessing items"
      ],
      "metadata": {
        "id": "RqfyC1bFQonr"
      }
    },
    {
      "cell_type": "code",
      "source": [
        "s1 = {1,2,3}\n",
        "print(s1[0])"
      ],
      "metadata": {
        "colab": {
          "base_uri": "https://localhost:8080/",
          "height": 188
        },
        "id": "d4dl9UyjQkf9",
        "outputId": "ff6ff0ec-5107-4a8a-ae8c-68cc6252e384"
      },
      "execution_count": 13,
      "outputs": [
        {
          "output_type": "error",
          "ename": "TypeError",
          "evalue": "ignored",
          "traceback": [
            "\u001b[0;31m---------------------------------------------------------------------------\u001b[0m",
            "\u001b[0;31mTypeError\u001b[0m                                 Traceback (most recent call last)",
            "\u001b[0;32m<ipython-input-13-02ca4c429b4d>\u001b[0m in \u001b[0;36m<module>\u001b[0;34m\u001b[0m\n\u001b[1;32m      1\u001b[0m \u001b[0ms1\u001b[0m \u001b[0;34m=\u001b[0m \u001b[0;34m{\u001b[0m\u001b[0;36m1\u001b[0m\u001b[0;34m,\u001b[0m\u001b[0;36m2\u001b[0m\u001b[0;34m,\u001b[0m\u001b[0;36m3\u001b[0m\u001b[0;34m}\u001b[0m\u001b[0;34m\u001b[0m\u001b[0;34m\u001b[0m\u001b[0m\n\u001b[0;32m----> 2\u001b[0;31m \u001b[0mprint\u001b[0m\u001b[0;34m(\u001b[0m\u001b[0ms1\u001b[0m\u001b[0;34m[\u001b[0m\u001b[0;36m0\u001b[0m\u001b[0;34m]\u001b[0m\u001b[0;34m)\u001b[0m\u001b[0;34m\u001b[0m\u001b[0;34m\u001b[0m\u001b[0m\n\u001b[0m",
            "\u001b[0;31mTypeError\u001b[0m: 'set' object is not subscriptable"
          ]
        }
      ]
    },
    {
      "cell_type": "code",
      "source": [
        "# no indexing or slicing"
      ],
      "metadata": {
        "id": "nGTSFA1CQsyD"
      },
      "execution_count": 14,
      "outputs": []
    },
    {
      "cell_type": "markdown",
      "source": [
        "#Editing items"
      ],
      "metadata": {
        "id": "aq8Q7BZqQzHQ"
      }
    },
    {
      "cell_type": "code",
      "source": [
        "s1 = {1,2,3}\n",
        "s1[0] = 100"
      ],
      "metadata": {
        "colab": {
          "base_uri": "https://localhost:8080/",
          "height": 188
        },
        "id": "7b__vi2iQxji",
        "outputId": "52261f87-9b7c-4fec-8a20-d81810eb5c25"
      },
      "execution_count": 15,
      "outputs": [
        {
          "output_type": "error",
          "ename": "TypeError",
          "evalue": "ignored",
          "traceback": [
            "\u001b[0;31m---------------------------------------------------------------------------\u001b[0m",
            "\u001b[0;31mTypeError\u001b[0m                                 Traceback (most recent call last)",
            "\u001b[0;32m<ipython-input-15-98cae8f8b6dd>\u001b[0m in \u001b[0;36m<module>\u001b[0;34m\u001b[0m\n\u001b[1;32m      1\u001b[0m \u001b[0ms1\u001b[0m \u001b[0;34m=\u001b[0m \u001b[0;34m{\u001b[0m\u001b[0;36m1\u001b[0m\u001b[0;34m,\u001b[0m\u001b[0;36m2\u001b[0m\u001b[0;34m,\u001b[0m\u001b[0;36m3\u001b[0m\u001b[0;34m}\u001b[0m\u001b[0;34m\u001b[0m\u001b[0;34m\u001b[0m\u001b[0m\n\u001b[0;32m----> 2\u001b[0;31m \u001b[0ms1\u001b[0m\u001b[0;34m[\u001b[0m\u001b[0;36m0\u001b[0m\u001b[0;34m]\u001b[0m \u001b[0;34m=\u001b[0m \u001b[0;36m100\u001b[0m\u001b[0;34m\u001b[0m\u001b[0;34m\u001b[0m\u001b[0m\n\u001b[0m",
            "\u001b[0;31mTypeError\u001b[0m: 'set' object does not support item assignment"
          ]
        }
      ]
    },
    {
      "cell_type": "markdown",
      "source": [
        "#Adding items"
      ],
      "metadata": {
        "id": "jXEl4iskQyPO"
      }
    },
    {
      "cell_type": "code",
      "source": [
        "s = {1,2,3}\n",
        "# add --> add to any position (not user accessed)\n",
        "s.add(4)\n",
        "print(s)\n",
        "#\n",
        "\n",
        "#update ---> use list inside update arguments\n",
        "s.update([5,6])\n",
        "print(s)"
      ],
      "metadata": {
        "colab": {
          "base_uri": "https://localhost:8080/"
        },
        "id": "W9ru_STJQ-eD",
        "outputId": "a633ec0d-056a-424b-fad2-32004e851c4b"
      },
      "execution_count": 17,
      "outputs": [
        {
          "output_type": "stream",
          "name": "stdout",
          "text": [
            "{1, 2, 3, 4}\n",
            "{1, 2, 3, 4, 5, 6}\n"
          ]
        }
      ]
    },
    {
      "cell_type": "markdown",
      "source": [
        "# Deleting items"
      ],
      "metadata": {
        "id": "vavAIZG0Rb8V"
      }
    },
    {
      "cell_type": "code",
      "source": [
        "# del --> del whole s not particular items\n",
        "\n",
        "#discard\n",
        "s.discard(5)\n",
        "print(s)\n",
        "s.remove(3)\n",
        "print(s)"
      ],
      "metadata": {
        "colab": {
          "base_uri": "https://localhost:8080/"
        },
        "id": "6mNgy9TeRGNh",
        "outputId": "f8ef1670-56db-47f7-b53f-e190b7fa5063"
      },
      "execution_count": 24,
      "outputs": [
        {
          "output_type": "stream",
          "name": "stdout",
          "text": [
            "{1, 2, 3, 6}\n",
            "{1, 2, 6}\n"
          ]
        }
      ]
    },
    {
      "cell_type": "code",
      "source": [
        "s.discard(90) #  doesnot shows error\n",
        "print(s)"
      ],
      "metadata": {
        "colab": {
          "base_uri": "https://localhost:8080/"
        },
        "id": "EjfmtTS6RqOh",
        "outputId": "a0aeda0e-257d-4dc7-95b7-57b14dc422fb"
      },
      "execution_count": 25,
      "outputs": [
        {
          "output_type": "stream",
          "name": "stdout",
          "text": [
            "{1, 2, 6}\n"
          ]
        }
      ]
    },
    {
      "cell_type": "code",
      "source": [
        "s.remove(5)  # shows error\n",
        "print(s)"
      ],
      "metadata": {
        "colab": {
          "base_uri": "https://localhost:8080/",
          "height": 188
        },
        "id": "9Du4nAHDRvnP",
        "outputId": "5d47f820-afae-4fc8-b7a8-75bdfa75fbc5"
      },
      "execution_count": 26,
      "outputs": [
        {
          "output_type": "error",
          "ename": "KeyError",
          "evalue": "ignored",
          "traceback": [
            "\u001b[0;31m---------------------------------------------------------------------------\u001b[0m",
            "\u001b[0;31mKeyError\u001b[0m                                  Traceback (most recent call last)",
            "\u001b[0;32m<ipython-input-26-f17f6234b0f8>\u001b[0m in \u001b[0;36m<module>\u001b[0;34m\u001b[0m\n\u001b[0;32m----> 1\u001b[0;31m \u001b[0ms\u001b[0m\u001b[0;34m.\u001b[0m\u001b[0mremove\u001b[0m\u001b[0;34m(\u001b[0m\u001b[0;36m5\u001b[0m\u001b[0;34m)\u001b[0m  \u001b[0;31m# shows error\u001b[0m\u001b[0;34m\u001b[0m\u001b[0;34m\u001b[0m\u001b[0m\n\u001b[0m\u001b[1;32m      2\u001b[0m \u001b[0mprint\u001b[0m\u001b[0;34m(\u001b[0m\u001b[0ms\u001b[0m\u001b[0;34m)\u001b[0m\u001b[0;34m\u001b[0m\u001b[0;34m\u001b[0m\u001b[0m\n",
            "\u001b[0;31mKeyError\u001b[0m: 5"
          ]
        }
      ]
    },
    {
      "cell_type": "code",
      "source": [
        "# pop ----> randomly delete\n",
        "s.pop()\n",
        "print(s)"
      ],
      "metadata": {
        "colab": {
          "base_uri": "https://localhost:8080/"
        },
        "id": "xyFh8g2bR2tJ",
        "outputId": "bf9b2e45-f2b5-4bfe-deed-9d246ff6cf14"
      },
      "execution_count": 27,
      "outputs": [
        {
          "output_type": "stream",
          "name": "stdout",
          "text": [
            "{2, 6}\n"
          ]
        }
      ]
    },
    {
      "cell_type": "code",
      "source": [
        "# clear --> clear set\n",
        "s.clear()\n",
        "print(s)"
      ],
      "metadata": {
        "colab": {
          "base_uri": "https://localhost:8080/"
        },
        "id": "c_WhwamoSPfu",
        "outputId": "88852f75-0879-417e-c08f-52f95018c282"
      },
      "execution_count": 28,
      "outputs": [
        {
          "output_type": "stream",
          "name": "stdout",
          "text": [
            "set()\n"
          ]
        }
      ]
    },
    {
      "cell_type": "markdown",
      "source": [
        "#Set Operations"
      ],
      "metadata": {
        "id": "2RF3gg-pSpqY"
      }
    },
    {
      "cell_type": "code",
      "source": [
        "s1 = {1,2,3,4,4,4,5}\n",
        "s2 = {5,6}"
      ],
      "metadata": {
        "id": "UEISz84VSS47"
      },
      "execution_count": 33,
      "outputs": []
    },
    {
      "cell_type": "code",
      "source": [
        "# union\n",
        "s1 | s2"
      ],
      "metadata": {
        "colab": {
          "base_uri": "https://localhost:8080/"
        },
        "id": "Vbzum3QwSw2S",
        "outputId": "99043009-a140-42b3-81c6-78fcd6a252a5"
      },
      "execution_count": 34,
      "outputs": [
        {
          "output_type": "execute_result",
          "data": {
            "text/plain": [
              "{1, 2, 3, 4, 5, 6}"
            ]
          },
          "metadata": {},
          "execution_count": 34
        }
      ]
    },
    {
      "cell_type": "code",
      "source": [
        "# intersetion\n",
        "s1 & s2"
      ],
      "metadata": {
        "colab": {
          "base_uri": "https://localhost:8080/"
        },
        "id": "yQjw_3dlSzbd",
        "outputId": "87188519-8501-4ae1-92b7-45e8f5002ebe"
      },
      "execution_count": 35,
      "outputs": [
        {
          "output_type": "execute_result",
          "data": {
            "text/plain": [
              "{5}"
            ]
          },
          "metadata": {},
          "execution_count": 35
        }
      ]
    },
    {
      "cell_type": "code",
      "source": [
        "# diiference\n",
        "s1 - s2"
      ],
      "metadata": {
        "colab": {
          "base_uri": "https://localhost:8080/"
        },
        "id": "8n-aSMzKS76-",
        "outputId": "aa3f2609-7895-4deb-a71f-da283c3cdbe4"
      },
      "execution_count": 37,
      "outputs": [
        {
          "output_type": "execute_result",
          "data": {
            "text/plain": [
              "set()"
            ]
          },
          "metadata": {},
          "execution_count": 37
        }
      ]
    },
    {
      "cell_type": "code",
      "source": [
        "# symmetric difference\n",
        "s1 ^ s2"
      ],
      "metadata": {
        "colab": {
          "base_uri": "https://localhost:8080/"
        },
        "id": "XG14ulJCTDDD",
        "outputId": "2bd271d6-9f6c-4cb0-baf1-d105d951bfcd"
      },
      "execution_count": 38,
      "outputs": [
        {
          "output_type": "execute_result",
          "data": {
            "text/plain": [
              "{1, 2, 3, 4, 6}"
            ]
          },
          "metadata": {},
          "execution_count": 38
        }
      ]
    },
    {
      "cell_type": "code",
      "source": [
        "# Membership Test --> in    not in\n",
        "# Loop Test ----> for `/"
      ],
      "metadata": {
        "id": "-R712DBnTMcq"
      },
      "execution_count": null,
      "outputs": []
    },
    {
      "cell_type": "markdown",
      "source": [
        "#Set Functions"
      ],
      "metadata": {
        "id": "2WCt_cQuT_fe"
      }
    },
    {
      "cell_type": "code",
      "source": [
        "#len/sum/min/max/sorted"
      ],
      "metadata": {
        "id": "nyNtlXlbUBe0"
      },
      "execution_count": 39,
      "outputs": []
    },
    {
      "cell_type": "code",
      "source": [
        "s1 = {1,2,3,4}\n",
        "s2 = {3,4,5,6}"
      ],
      "metadata": {
        "id": "B8pbDwuZUEbq"
      },
      "execution_count": 40,
      "outputs": []
    },
    {
      "cell_type": "code",
      "source": [
        "# union/update\n",
        "s1.union(s2)\n",
        "\n",
        "s1.update(s2) # result stored in s1\n",
        "print(s1)\n",
        "print(s2)"
      ],
      "metadata": {
        "colab": {
          "base_uri": "https://localhost:8080/"
        },
        "id": "R-X_enafULTp",
        "outputId": "550c246d-565e-4c3e-e805-cfcd4643a238"
      },
      "execution_count": 43,
      "outputs": [
        {
          "output_type": "stream",
          "name": "stdout",
          "text": [
            "{1, 2, 3, 4, 5, 6}\n",
            "{3, 4, 5, 6}\n"
          ]
        }
      ]
    },
    {
      "cell_type": "code",
      "source": [
        "#intersection/update_interesection"
      ],
      "metadata": {
        "id": "-jAxryGTUd1o"
      },
      "execution_count": 44,
      "outputs": []
    },
    {
      "cell_type": "code",
      "source": [
        "#difference/difference_update"
      ],
      "metadata": {
        "id": "blmxyL8DUvmg"
      },
      "execution_count": 45,
      "outputs": []
    },
    {
      "cell_type": "code",
      "source": [
        "# symmetric_differcne/symmetric_diffrence_update"
      ],
      "metadata": {
        "id": "T8-QmqTGUyl0"
      },
      "execution_count": 46,
      "outputs": []
    },
    {
      "cell_type": "code",
      "source": [
        "#isdisjoint/issubset/issuperet\n",
        "\n",
        "s1 = {1,2,3,4}\n",
        "s2 = {3,4,5,6}\n",
        "\n",
        "s1.isdisjoint(s2) #----> elements common"
      ],
      "metadata": {
        "colab": {
          "base_uri": "https://localhost:8080/"
        },
        "id": "U7B_NQ6sVCE1",
        "outputId": "4b0188e8-59dc-4001-a75d-28e28af457c3"
      },
      "execution_count": 47,
      "outputs": [
        {
          "output_type": "execute_result",
          "data": {
            "text/plain": [
              "False"
            ]
          },
          "metadata": {},
          "execution_count": 47
        }
      ]
    },
    {
      "cell_type": "code",
      "source": [
        "s1.issubset(s2) ###---> naam bta rha"
      ],
      "metadata": {
        "colab": {
          "base_uri": "https://localhost:8080/"
        },
        "id": "n0cTYHRAVNsP",
        "outputId": "9f36f470-7057-45e7-9490-2ff7e17a40f6"
      },
      "execution_count": 48,
      "outputs": [
        {
          "output_type": "execute_result",
          "data": {
            "text/plain": [
              "False"
            ]
          },
          "metadata": {},
          "execution_count": 48
        }
      ]
    },
    {
      "cell_type": "code",
      "source": [
        "s1.issuperset(s2 ) ###---> naam bta rha firse"
      ],
      "metadata": {
        "colab": {
          "base_uri": "https://localhost:8080/"
        },
        "id": "3qnUbI4oVXgH",
        "outputId": "f3c6a439-efc5-4643-b30e-f3ce40b06c09"
      },
      "execution_count": 49,
      "outputs": [
        {
          "output_type": "execute_result",
          "data": {
            "text/plain": [
              "False"
            ]
          },
          "metadata": {},
          "execution_count": 49
        }
      ]
    },
    {
      "cell_type": "code",
      "source": [
        "# copy\n",
        "s1 = {1,2,3}\n",
        "s2 = s1.copy()\n",
        "\n",
        "print(s1)\n",
        "print(s2)\n",
        "\n",
        "print(id(s1))\n",
        "print(id(s2))"
      ],
      "metadata": {
        "colab": {
          "base_uri": "https://localhost:8080/"
        },
        "id": "Nb9RbS5lVetF",
        "outputId": "3b85c71e-35d4-4298-ea0b-57a00bfa4986"
      },
      "execution_count": 52,
      "outputs": [
        {
          "output_type": "stream",
          "name": "stdout",
          "text": [
            "{1, 2, 3}\n",
            "{1, 2, 3}\n",
            "139721080272256\n",
            "139721080272480\n"
          ]
        }
      ]
    },
    {
      "cell_type": "markdown",
      "source": [
        "#Frozenset\n",
        "\n",
        "Frozenset is just an immutable version of a python set object"
      ],
      "metadata": {
        "id": "cTwl_5wyfw9U"
      }
    },
    {
      "cell_type": "code",
      "source": [
        "# create frozenset\n",
        "fs = frozenset([1,2,3])\n",
        "fs"
      ],
      "metadata": {
        "colab": {
          "base_uri": "https://localhost:8080/"
        },
        "id": "id3-4AkWVs_J",
        "outputId": "d6590752-fd6d-4467-841f-03a6cf0a2eab"
      },
      "execution_count": 54,
      "outputs": [
        {
          "output_type": "execute_result",
          "data": {
            "text/plain": [
              "frozenset({1, 2, 3})"
            ]
          },
          "metadata": {},
          "execution_count": 54
        }
      ]
    },
    {
      "cell_type": "code",
      "source": [
        "# what works and what does not\n",
        "# works -> all read functions\n",
        "# doesn't work -> write operations"
      ],
      "metadata": {
        "id": "kWtlYNTQgHKg"
      },
      "execution_count": 55,
      "outputs": []
    },
    {
      "cell_type": "code",
      "source": [
        "# when to use\n",
        "# 2D sets ---> possible\n"
      ],
      "metadata": {
        "id": "rvZYpAaZgbQo"
      },
      "execution_count": 56,
      "outputs": []
    },
    {
      "cell_type": "markdown",
      "source": [
        "#Set comprehension"
      ],
      "metadata": {
        "id": "8Dyji0hGgwd1"
      }
    },
    {
      "cell_type": "code",
      "source": [
        "{i for i in range(0,11) if i%2 == 0}"
      ],
      "metadata": {
        "colab": {
          "base_uri": "https://localhost:8080/"
        },
        "id": "R_JpSqFlgv6n",
        "outputId": "34e60356-7ead-4646-a4ad-1bf00eb6067a"
      },
      "execution_count": 57,
      "outputs": [
        {
          "output_type": "execute_result",
          "data": {
            "text/plain": [
              "{0, 2, 4, 6, 8, 10}"
            ]
          },
          "metadata": {},
          "execution_count": 57
        }
      ]
    },
    {
      "cell_type": "markdown",
      "source": [
        "#Dictionary\n",
        "\n",
        "Dictionary in python is a collectionof keys values, used to store data values like a map, which ,unlike other data types which hold only a single value as an element.\n",
        "\n",
        "In some language it is known as map or associative arrays.\n",
        "\n",
        "`\n",
        "dict = {'name':'nitish','age':33,'gender':'male'}\n",
        "`\n",
        "\n",
        "Characteristics:\n",
        "* Mutable\n",
        "* Indexing has no meaning\n",
        "* Keys can't be duplicated\n",
        "* Keys can't be mutable items"
      ],
      "metadata": {
        "id": "V27ztLNijREy"
      }
    },
    {
      "cell_type": "markdown",
      "source": [
        "#Create Dictionary"
      ],
      "metadata": {
        "id": "22VUpDOLlkd1"
      }
    },
    {
      "cell_type": "code",
      "source": [
        "# empty dictionary\n",
        "d = {}\n",
        "print(d)\n",
        "# 1D\n",
        "dic = {'name':'nitish','age':33,'gender':'male'}\n",
        "print(dic)\n",
        "# mixed keys\n",
        "d2 = {(1,2,3):1,'hello':'world'}\n",
        "print(d2)\n",
        "# 2D\n",
        "s = {'name':'nitish',\n",
        "     'collage':'tcs',\n",
        "     'sem':6,\n",
        "     'subject':{\n",
        "         'das' : 60,\n",
        "         \"math\" : 848,\n",
        "         'ekh' : 378\n",
        "         }\n",
        "     }\n",
        "print(s)"
      ],
      "metadata": {
        "colab": {
          "base_uri": "https://localhost:8080/"
        },
        "id": "BQxsYy5Yg39w",
        "outputId": "af7a4cda-43cc-4fd4-8ac4-2184449757c9"
      },
      "execution_count": 68,
      "outputs": [
        {
          "output_type": "stream",
          "name": "stdout",
          "text": [
            "{}\n",
            "{'name': 'nitish', 'age': 33, 'gender': 'male'}\n",
            "{(1, 2, 3): 1, 'hello': 'world'}\n",
            "{'name': 'nitish', 'collage': 'tcs', 'sem': 6, 'subject': {'das': 60, 'math': 848, 'ekh': 378}}\n"
          ]
        }
      ]
    },
    {
      "cell_type": "code",
      "source": [
        "# can'not have duplicate keys\n",
        "# last assigned gets the priority"
      ],
      "metadata": {
        "id": "6XMSjgK9m9lt"
      },
      "execution_count": 73,
      "outputs": []
    },
    {
      "cell_type": "code",
      "source": [
        "#mutable items as keys are not allowed---> unhashable type"
      ],
      "metadata": {
        "id": "9elUDE36n_Z2"
      },
      "execution_count": 74,
      "outputs": []
    },
    {
      "cell_type": "markdown",
      "source": [
        "#Accessing items"
      ],
      "metadata": {
        "id": "YvhxouTQsaWx"
      }
    },
    {
      "cell_type": "code",
      "source": [
        "# dict[1] ---> not allowed\n",
        "# dict[i:j:k] ----> not allowed"
      ],
      "metadata": {
        "id": "j8FU4WWTsR1h"
      },
      "execution_count": 75,
      "outputs": []
    },
    {
      "cell_type": "code",
      "source": [
        "dict = {'name': 'nitish', 'age': 33, 'gender': 'male'}\n",
        "# []\n",
        "dict['name']"
      ],
      "metadata": {
        "colab": {
          "base_uri": "https://localhost:8080/",
          "height": 36
        },
        "id": "wZehYG2EskTy",
        "outputId": "121aea20-39ac-4860-e3ca-59957c837784"
      },
      "execution_count": 76,
      "outputs": [
        {
          "output_type": "execute_result",
          "data": {
            "text/plain": [
              "'nitish'"
            ],
            "application/vnd.google.colaboratory.intrinsic+json": {
              "type": "string"
            }
          },
          "metadata": {},
          "execution_count": 76
        }
      ]
    },
    {
      "cell_type": "code",
      "source": [
        "# get\n",
        "dict.get('age')"
      ],
      "metadata": {
        "colab": {
          "base_uri": "https://localhost:8080/"
        },
        "id": "Ed2ifCTTstfp",
        "outputId": "4de3128f-f1ac-4c0a-8e1e-d83ed5583a81"
      },
      "execution_count": 77,
      "outputs": [
        {
          "output_type": "execute_result",
          "data": {
            "text/plain": [
              "33"
            ]
          },
          "metadata": {},
          "execution_count": 77
        }
      ]
    },
    {
      "cell_type": "code",
      "source": [
        "# []\n",
        "dict['gender']"
      ],
      "metadata": {
        "colab": {
          "base_uri": "https://localhost:8080/",
          "height": 36
        },
        "id": "ieJnIaMUsyJn",
        "outputId": "d365df12-3328-4e7b-9dbf-a178827da6f9"
      },
      "execution_count": 78,
      "outputs": [
        {
          "output_type": "execute_result",
          "data": {
            "text/plain": [
              "'male'"
            ],
            "application/vnd.google.colaboratory.intrinsic+json": {
              "type": "string"
            }
          },
          "metadata": {},
          "execution_count": 78
        }
      ]
    },
    {
      "cell_type": "markdown",
      "source": [
        "#Adding key-value pair"
      ],
      "metadata": {
        "id": "GSmKOjoMs4wo"
      }
    },
    {
      "cell_type": "code",
      "source": [
        "dict['sex'] = 'male'\n",
        "dict"
      ],
      "metadata": {
        "colab": {
          "base_uri": "https://localhost:8080/"
        },
        "id": "FZMe6zvXs3kk",
        "outputId": "f5065055-fd96-400f-a5d2-639e6cded757"
      },
      "execution_count": 80,
      "outputs": [
        {
          "output_type": "execute_result",
          "data": {
            "text/plain": [
              "{'name': 'nitish', 'age': 33, 'gender': 'male', 'sex': 'male'}"
            ]
          },
          "metadata": {},
          "execution_count": 80
        }
      ]
    },
    {
      "cell_type": "markdown",
      "source": [
        "#Remove key-value pair"
      ],
      "metadata": {
        "id": "yr1XPrp6tDSw"
      }
    },
    {
      "cell_type": "code",
      "source": [
        "dit = {'name': 'nitish', 'age': 33, 'gender': 'male'}\n",
        "# pop\n",
        "dit.pop('name')\n",
        "print(dit)\n",
        "\n",
        "#popitem --->last key-value pair\n",
        "dit.popitem()\n",
        "print(dit)"
      ],
      "metadata": {
        "colab": {
          "base_uri": "https://localhost:8080/"
        },
        "id": "-dUPqGl6tAiE",
        "outputId": "87d4dba6-75b3-402f-874c-83c85f00830b"
      },
      "execution_count": 83,
      "outputs": [
        {
          "output_type": "stream",
          "name": "stdout",
          "text": [
            "{'age': 33, 'gender': 'male'}\n",
            "{'age': 33}\n"
          ]
        }
      ]
    },
    {
      "cell_type": "code",
      "source": [
        "# del\n",
        "#clear"
      ],
      "metadata": {
        "id": "wzp0RKN-tSc8"
      },
      "execution_count": 84,
      "outputs": []
    },
    {
      "cell_type": "markdown",
      "source": [
        "#Editing key-value pairs\n",
        "\n",
        "```\n",
        "# This is formatted as code\n",
        "```\n",
        "\n"
      ],
      "metadata": {
        "id": "PF70OeIot9DR"
      }
    },
    {
      "cell_type": "code",
      "source": [
        "dit['age' ] = 90\n",
        "dit"
      ],
      "metadata": {
        "colab": {
          "base_uri": "https://localhost:8080/"
        },
        "id": "JG6jIQhjtlOk",
        "outputId": "a10bc927-3c92-4763-da61-d70af5da5760"
      },
      "execution_count": 86,
      "outputs": [
        {
          "output_type": "execute_result",
          "data": {
            "text/plain": [
              "{'age': 90}"
            ]
          },
          "metadata": {},
          "execution_count": 86
        }
      ]
    },
    {
      "cell_type": "markdown",
      "source": [
        "#Dictionary Operations\n",
        "* membership\n",
        "* Iteration"
      ],
      "metadata": {
        "id": "gyI0Qc_vuL0_"
      }
    },
    {
      "cell_type": "code",
      "source": [
        "dict = {'name': 'nitish', 'age': 33, 'gender': 'male'}\n",
        "# evrything is search from keys\n",
        "\n",
        "print('age' in dict)"
      ],
      "metadata": {
        "colab": {
          "base_uri": "https://localhost:8080/"
        },
        "id": "iXZbbaBIuISG",
        "outputId": "8ca8f878-8716-4e70-fff1-71ac2e23866f"
      },
      "execution_count": 90,
      "outputs": [
        {
          "output_type": "stream",
          "name": "stdout",
          "text": [
            "True\n"
          ]
        }
      ]
    },
    {
      "cell_type": "code",
      "source": [
        "for i in dict:\n",
        "    print(i)"
      ],
      "metadata": {
        "colab": {
          "base_uri": "https://localhost:8080/"
        },
        "id": "zSS2Z6IVuoPe",
        "outputId": "4abb9924-cbd8-4c06-838a-7c9aa98172f6"
      },
      "execution_count": 91,
      "outputs": [
        {
          "output_type": "stream",
          "name": "stdout",
          "text": [
            "name\n",
            "age\n",
            "gender\n"
          ]
        }
      ]
    },
    {
      "cell_type": "code",
      "source": [
        "for i in dict:\n",
        "    print(dict[i])"
      ],
      "metadata": {
        "colab": {
          "base_uri": "https://localhost:8080/"
        },
        "id": "vHBYMb9ou47s",
        "outputId": "cec6d9bc-97a2-48f1-a775-8733aaf569eb"
      },
      "execution_count": 92,
      "outputs": [
        {
          "output_type": "stream",
          "name": "stdout",
          "text": [
            "nitish\n",
            "33\n",
            "male\n"
          ]
        }
      ]
    },
    {
      "cell_type": "markdown",
      "source": [
        "#Dictionary Functions"
      ],
      "metadata": {
        "id": "GUn9rqY6u_Fx"
      }
    },
    {
      "cell_type": "code",
      "source": [
        "# len/sorted(key RE SORTED)"
      ],
      "metadata": {
        "id": "T0R3mZKmu93s"
      },
      "execution_count": 93,
      "outputs": []
    },
    {
      "cell_type": "code",
      "source": [
        "#items/keys/values\n",
        "print(dict.items()) #--->tuples\n",
        "print(dict.keys())\n",
        "print(dict.values())"
      ],
      "metadata": {
        "colab": {
          "base_uri": "https://localhost:8080/"
        },
        "id": "QvzNh52PvFGl",
        "outputId": "3f573ae2-582a-4556-c0b9-28a515a3f5cd"
      },
      "execution_count": 96,
      "outputs": [
        {
          "output_type": "stream",
          "name": "stdout",
          "text": [
            "dict_items([('name', 'nitish'), ('age', 33), ('gender', 'male')])\n",
            "dict_keys(['name', 'age', 'gender'])\n",
            "dict_values(['nitish', 33, 'male'])\n"
          ]
        }
      ]
    },
    {
      "cell_type": "code",
      "source": [
        "#update\n",
        "d1 = {1:2,3:4}\n",
        "d2 = {1:3,5:6}\n",
        "\n",
        "print(d1.update(d2))\n",
        "print(d1)   #permanent change"
      ],
      "metadata": {
        "colab": {
          "base_uri": "https://localhost:8080/"
        },
        "id": "m-ajsoPHvTa5",
        "outputId": "7330da41-3899-480a-f59d-35b00e442d8c"
      },
      "execution_count": 98,
      "outputs": [
        {
          "output_type": "stream",
          "name": "stdout",
          "text": [
            "None\n",
            "{1: 3, 3: 4, 5: 6}\n"
          ]
        }
      ]
    },
    {
      "cell_type": "markdown",
      "source": [
        "#Dictionary comprehension\n",
        "\n",
        "`{key:value for vars in iterable}`"
      ],
      "metadata": {
        "id": "X82t3J14v3DG"
      }
    },
    {
      "cell_type": "code",
      "source": [
        "#print 1st 10 numbers and their square\n",
        "{i:i**2 for i in range(1,11)}"
      ],
      "metadata": {
        "colab": {
          "base_uri": "https://localhost:8080/"
        },
        "id": "2OzsNPR7v1MA",
        "outputId": "26e3ecc7-a541-4d87-ec56-e100564f2177"
      },
      "execution_count": 99,
      "outputs": [
        {
          "output_type": "execute_result",
          "data": {
            "text/plain": [
              "{1: 1, 2: 4, 3: 9, 4: 16, 5: 25, 6: 36, 7: 49, 8: 64, 9: 81, 10: 100}"
            ]
          },
          "metadata": {},
          "execution_count": 99
        }
      ]
    },
    {
      "cell_type": "code",
      "source": [
        "#using existing dict\n",
        "distance = {'delhi':1000,'mumbai':2000,'banglore':3000}\n",
        "{key:value*0.62 for (key,value) in distance.items()}"
      ],
      "metadata": {
        "colab": {
          "base_uri": "https://localhost:8080/"
        },
        "id": "B2KpPLbFwOXo",
        "outputId": "41d11eeb-9248-455a-ef41-583d1ec6d918"
      },
      "execution_count": 100,
      "outputs": [
        {
          "output_type": "execute_result",
          "data": {
            "text/plain": [
              "{'delhi': 620.0, 'mumbai': 1240.0, 'banglore': 1860.0}"
            ]
          },
          "metadata": {},
          "execution_count": 100
        }
      ]
    },
    {
      "cell_type": "code",
      "source": [
        "# using zip\n",
        "days = [\"Sunday\",\"Monday\",\"Tuesday\",\"Wednesday\",\"Thursday\",\"Friday\",\"Saturday\"]\n",
        "temp_C = [30.5,32.6,31.8,33.4,29.8,30.2,29.9]\n",
        "{i:j for (i,j) in zip(days,temp_C)}"
      ],
      "metadata": {
        "colab": {
          "base_uri": "https://localhost:8080/"
        },
        "id": "B1nQwb5OwjVy",
        "outputId": "0f6a2c87-6a12-40bb-f5f1-fb0b96af16d2"
      },
      "execution_count": 102,
      "outputs": [
        {
          "output_type": "execute_result",
          "data": {
            "text/plain": [
              "{'Sunday': 30.5,\n",
              " 'Monday': 32.6,\n",
              " 'Tuesday': 31.8,\n",
              " 'Wednesday': 33.4,\n",
              " 'Thursday': 29.8,\n",
              " 'Friday': 30.2,\n",
              " 'Saturday': 29.9}"
            ]
          },
          "metadata": {},
          "execution_count": 102
        }
      ]
    },
    {
      "cell_type": "code",
      "source": [
        "# using if condion\n",
        "products = {'phone':0,'laptop':1,'charger':32,'tablet':2}\n",
        "{key:value for (key,value) in products.items() if value>0}"
      ],
      "metadata": {
        "colab": {
          "base_uri": "https://localhost:8080/"
        },
        "id": "EkULdHErwrel",
        "outputId": "da172ca5-365d-408f-acd1-41bae735224b"
      },
      "execution_count": 104,
      "outputs": [
        {
          "output_type": "execute_result",
          "data": {
            "text/plain": [
              "{'laptop': 1, 'charger': 32, 'tablet': 2}"
            ]
          },
          "metadata": {},
          "execution_count": 104
        }
      ]
    },
    {
      "cell_type": "code",
      "source": [
        "# nested comprehension\n",
        "# print tables of number from 2 to 4"
      ],
      "metadata": {
        "id": "_3bOn_VJxr4o"
      },
      "execution_count": 105,
      "outputs": []
    },
    {
      "cell_type": "code",
      "source": [
        "{i:{j:i*j for j in range(1,11)} for i in range(2,6)}"
      ],
      "metadata": {
        "colab": {
          "base_uri": "https://localhost:8080/"
        },
        "id": "sl47uMkNx2m3",
        "outputId": "51c65276-abc9-4bf3-c40b-c72259ac1a02"
      },
      "execution_count": 106,
      "outputs": [
        {
          "output_type": "execute_result",
          "data": {
            "text/plain": [
              "{2: {1: 2, 2: 4, 3: 6, 4: 8, 5: 10, 6: 12, 7: 14, 8: 16, 9: 18, 10: 20},\n",
              " 3: {1: 3, 2: 6, 3: 9, 4: 12, 5: 15, 6: 18, 7: 21, 8: 24, 9: 27, 10: 30},\n",
              " 4: {1: 4, 2: 8, 3: 12, 4: 16, 5: 20, 6: 24, 7: 28, 8: 32, 9: 36, 10: 40},\n",
              " 5: {1: 5, 2: 10, 3: 15, 4: 20, 5: 25, 6: 30, 7: 35, 8: 40, 9: 45, 10: 50}}"
            ]
          },
          "metadata": {},
          "execution_count": 106
        }
      ]
    },
    {
      "cell_type": "code",
      "source": [],
      "metadata": {
        "id": "M6OtxjAGyN0-"
      },
      "execution_count": null,
      "outputs": []
    }
  ]
}